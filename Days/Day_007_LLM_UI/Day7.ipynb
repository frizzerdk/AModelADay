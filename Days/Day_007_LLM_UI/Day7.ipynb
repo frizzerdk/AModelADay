{
 "cells": [
  {
   "cell_type": "code",
   "execution_count": 1,
   "metadata": {},
   "outputs": [
    {
     "data": {
      "text/plain": [
       "True"
      ]
     },
     "execution_count": 1,
     "metadata": {},
     "output_type": "execute_result"
    }
   ],
   "source": [
    "# Option 1: Using OpenAI library directly\n",
    "import openai\n",
    "\n",
    "# Option 2: Using LangChain\n",
    "from langchain.llms import OpenAI\n",
    "from langchain.chat_models import ChatOpenAI\n",
    "from langchain.schema import HumanMessage\n",
    "from langchain_openai import ChatOpenAI\n",
    "from langchain_core.output_parsers import StrOutputParser\n",
    "from langchain_core.prompts import ChatPromptTemplate\n",
    "\n",
    "\n",
    "# Common imports\n",
    "import os\n",
    "from dotenv import load_dotenv\n",
    "\n",
    "load_dotenv()\n",
    "\n"
   ]
  },
  {
   "cell_type": "code",
   "execution_count": 4,
   "metadata": {},
   "outputs": [
    {
     "data": {
      "application/vnd.jupyter.widget-view+json": {
       "model_id": "33fbacdfed024ad1924f63e67cd9cad7",
       "version_major": 2,
       "version_minor": 0
      },
      "text/plain": [
       "Dropdown(description='Select LLM:', options=('GPT-4o mini', 'GPT-4o', 'GPT-4 Turbo', 'Claude 3 Opus', 'Claude …"
      ]
     },
     "metadata": {},
     "output_type": "display_data"
    },
    {
     "data": {
      "application/vnd.jupyter.widget-view+json": {
       "model_id": "db36af682d584f9da2fdf51585474432",
       "version_major": 2,
       "version_minor": 0
      },
      "text/plain": [
       "Textarea(value='', description='Input Text:')"
      ]
     },
     "metadata": {},
     "output_type": "display_data"
    },
    {
     "data": {
      "application/vnd.jupyter.widget-view+json": {
       "model_id": "d04da566f79546aea59336915c7fefab",
       "version_major": 2,
       "version_minor": 0
      },
      "text/plain": [
       "Button(description='Create Cards', style=ButtonStyle())"
      ]
     },
     "metadata": {},
     "output_type": "display_data"
    },
    {
     "data": {
      "application/vnd.jupyter.widget-view+json": {
       "model_id": "5de68a3f62da4b5e89690df70355d952",
       "version_major": 2,
       "version_minor": 0
      },
      "text/plain": [
       "Output()"
      ]
     },
     "metadata": {},
     "output_type": "display_data"
    }
   ],
   "source": [
    "\n",
    "\n",
    "import ipywidgets as widgets\n",
    "from IPython.display import display\n",
    "from typing import List\n",
    "\n",
    "# Function for LLM selector\n",
    "def select_llm():\n",
    "    llm_options = [\n",
    "        \"GPT-4o mini\",  # Default option\n",
    "        \"GPT-4o\",\n",
    "        \"GPT-4 Turbo\",\n",
    "        \"Claude 3 Opus\",\n",
    "        \"Claude 3.5 Sonnet\",\n",
    "        \"Claude 3 Haiku\"\n",
    "    ]\n",
    "    return widgets.Dropdown(options=llm_options, value=\"GPT-4o mini\", description='Select LLM:')\n",
    "\n",
    "\n",
    "# Initialize the OpenAI client\n",
    "client = ChatOpenAI()\n",
    "\n",
    "# Function for creating Anki cards from text\n",
    "def create_anki_cards(text: str, llm: str) -> List[dict]:\n",
    "    system_template = \"Create Anki cards from the given text.\"\n",
    "    prompt_template = ChatPromptTemplate.from_messages([\n",
    "        (\"system\", system_template),\n",
    "        (\"user\", \"{text}\")\n",
    "    ])\n",
    "    chain = prompt_template | client | StrOutputParser()\n",
    "    return chain.invoke({\"text\": text})\n",
    "\n",
    "\n",
    "\n",
    "# Create widgets\n",
    "llm_selector = select_llm()\n",
    "text_input = widgets.Textarea(description='Input Text:')\n",
    "create_button = widgets.Button(description='Create Cards')\n",
    "\n",
    "output = widgets.Output()\n",
    "\n",
    "# Define button click handlers\n",
    "def on_create_click(b):\n",
    "    with output:\n",
    "        output.clear_output()\n",
    "        print(\"Creating cards...\")\n",
    "        cards = create_anki_cards(text_input.value, llm_selector.value)\n",
    "        print(\"Created cards:\\n\", cards)\n",
    "\n",
    "\n",
    "# Attach handlers to buttons\n",
    "create_button.on_click(on_create_click)\n",
    "\n",
    "# Display widgets\n",
    "display(llm_selector, text_input, create_button, output)"
   ]
  }
 ],
 "metadata": {
  "kernelspec": {
   "display_name": "Python 3",
   "language": "python",
   "name": "python3"
  },
  "language_info": {
   "codemirror_mode": {
    "name": "ipython",
    "version": 3
   },
   "file_extension": ".py",
   "mimetype": "text/x-python",
   "name": "python",
   "nbconvert_exporter": "python",
   "pygments_lexer": "ipython3",
   "version": "3.10.12"
  }
 },
 "nbformat": 4,
 "nbformat_minor": 2
}
