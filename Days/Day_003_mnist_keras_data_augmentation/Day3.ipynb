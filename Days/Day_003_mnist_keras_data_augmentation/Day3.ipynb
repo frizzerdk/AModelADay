{
 "cells": [
  {
   "cell_type": "markdown",
   "metadata": {},
   "source": [
    "# Day 3: Data augementation "
   ]
  },
  {
   "cell_type": "markdown",
   "metadata": {},
   "source": [
    "Purpose of this notebook is to train a model with data augmentation. I will be using best parameters from previous notebook and will be using data augmentation to improve the model.\n",
    "* make sweep with different data augementation types\n",
    "* make seperate training file but do preprocessing, visualization and post processing in this file\n",
    "* make a seperate file for model training\n",
    "* make utility library for common functions and install with pip "
   ]
  },
  {
   "cell_type": "markdown",
   "metadata": {},
   "source": [
    "Imports:"
   ]
  },
  {
   "cell_type": "code",
   "execution_count": 1,
   "metadata": {},
   "outputs": [
    {
     "name": "stderr",
     "output_type": "stream",
     "text": [
      "2024-05-19 08:31:01.652242: I tensorflow/core/util/port.cc:113] oneDNN custom operations are on. You may see slightly different numerical results due to floating-point round-off errors from different computation orders. To turn them off, set the environment variable `TF_ENABLE_ONEDNN_OPTS=0`.\n",
      "2024-05-19 08:31:01.674951: I tensorflow/core/platform/cpu_feature_guard.cc:210] This TensorFlow binary is optimized to use available CPU instructions in performance-critical operations.\n",
      "To enable the following instructions: AVX2 AVX_VNNI FMA, in other operations, rebuild TensorFlow with the appropriate compiler flags.\n",
      "2024-05-19 08:31:02.031615: W tensorflow/compiler/tf2tensorrt/utils/py_utils.cc:38] TF-TRT Warning: Could not find TensorRT\n"
     ]
    }
   ],
   "source": [
    "import MyUtils.Util.Misc as util\n"
   ]
  },
  {
   "cell_type": "code",
   "execution_count": 2,
   "metadata": {},
   "outputs": [
    {
     "name": "stdout",
     "output_type": "stream",
     "text": [
      "Warning: Your Kaggle API key is readable by other users on this system! To fix this, you can run 'chmod 600 /root/.kaggle/kaggle.json'\n"
     ]
    }
   ],
   "source": [
    "import keras\n",
    "import numpy as np\n",
    "import tensorflow as tf\n",
    "import os\n",
    "import wandb\n",
    "import matplotlib.pyplot as plt\n",
    "import IPython.display as display\n",
    "import gc\n",
    "import pandas as pd\n",
    "import kaggle\n",
    "import torch\n",
    "import zipfile\n",
    "from sklearn.model_selection import train_test_split\n",
    "from omegaconf import OmegaConf\n",
    "from keras import layers\n",
    "import time"
   ]
  },
  {
   "cell_type": "markdown",
   "metadata": {},
   "source": [
    "Check GPU:"
   ]
  },
  {
   "cell_type": "code",
   "execution_count": 3,
   "metadata": {},
   "outputs": [
    {
     "name": "stdout",
     "output_type": "stream",
     "text": [
      "cuda:0\n"
     ]
    }
   ],
   "source": [
    "# throw error if no gpu available\n",
    "assert torch.cuda.is_available(), \"No GPU available\"\n",
    "device = torch.device(\"cuda:0\" if torch.cuda.is_available() else \"cpu\")\n",
    "print(device)"
   ]
  },
  {
   "cell_type": "markdown",
   "metadata": {},
   "source": [
    "## Cofiguration"
   ]
  },
  {
   "cell_type": "code",
   "execution_count": 4,
   "metadata": {},
   "outputs": [],
   "source": [
    "cfg = util.load_and_override_config(\".\", \"config\")"
   ]
  },
  {
   "cell_type": "markdown",
   "metadata": {},
   "source": [
    "## Get data ready"
   ]
  },
  {
   "cell_type": "markdown",
   "metadata": {},
   "source": [
    "dowload data and unzip it"
   ]
  },
  {
   "cell_type": "code",
   "execution_count": 5,
   "metadata": {},
   "outputs": [
    {
     "name": "stdout",
     "output_type": "stream",
     "text": [
      "Warning: Your Kaggle API key is readable by other users on this system! To fix this, you can run 'chmod 600 /root/.kaggle/kaggle.json'\n",
      "digit-recognizer.zip: Skipping, found more recently modified local copy (use --force to force download)\n"
     ]
    }
   ],
   "source": [
    "# Define the directory where you want to download the data\n",
    "data_dir = \"MyDataset/mnist/raw\"  # './' represents the current directory\n",
    "\n",
    "# Check if the directory exists\n",
    "if not os.path.exists(data_dir):\n",
    "    # If not, create the directory\n",
    "    os.makedirs(data_dir)\n",
    "\n",
    "# Move to that directory\n",
    "os.chdir(data_dir)\n",
    "competition_name = \"digit-recognizer\"\n",
    "# Download the data\n",
    "os.system(\"kaggle competitions download -c \" + competition_name)\n",
    "\n",
    "# Unzip the data\n",
    "with zipfile.ZipFile(\"digit-recognizer.zip\",\"r\") as zip_ref:\n",
    "    zip_ref.extractall(\".\")\n",
    "\n",
    "os.chdir(\"../../..\")"
   ]
  },
  {
   "cell_type": "markdown",
   "metadata": {},
   "source": [
    "Load data"
   ]
  },
  {
   "cell_type": "code",
   "execution_count": 6,
   "metadata": {},
   "outputs": [],
   "source": [
    "# Load the dataset\n",
    "train_df = pd.read_csv('MyDataset/mnist/raw/train.csv')\n",
    "test_df = pd.read_csv('MyDataset/mnist/raw/test.csv')\n",
    "\n",
    "# Split features and labels\n",
    "y_train = train_df[\"label\"]\n",
    "x_train = train_df.drop(labels = [\"label\"], axis = 1)\n",
    "\n",
    "# Convert to numpy arrays\n",
    "x_train = x_train.values\n",
    "y_train = y_train.values\n",
    "\n",
    "# Test data\n",
    "x_test = test_df.values"
   ]
  },
  {
   "cell_type": "markdown",
   "metadata": {},
   "source": [
    "Inspect raw data"
   ]
  },
  {
   "cell_type": "code",
   "execution_count": 7,
   "metadata": {},
   "outputs": [
    {
     "data": {
      "text/html": [
       "<div>\n",
       "<style scoped>\n",
       "    .dataframe tbody tr th:only-of-type {\n",
       "        vertical-align: middle;\n",
       "    }\n",
       "\n",
       "    .dataframe tbody tr th {\n",
       "        vertical-align: top;\n",
       "    }\n",
       "\n",
       "    .dataframe thead th {\n",
       "        text-align: right;\n",
       "    }\n",
       "</style>\n",
       "<table border=\"1\" class=\"dataframe\">\n",
       "  <thead>\n",
       "    <tr style=\"text-align: right;\">\n",
       "      <th></th>\n",
       "      <th>label</th>\n",
       "      <th>pixel0</th>\n",
       "      <th>pixel1</th>\n",
       "      <th>pixel2</th>\n",
       "      <th>pixel3</th>\n",
       "      <th>pixel4</th>\n",
       "      <th>pixel5</th>\n",
       "      <th>pixel6</th>\n",
       "      <th>pixel7</th>\n",
       "      <th>pixel8</th>\n",
       "      <th>...</th>\n",
       "      <th>pixel774</th>\n",
       "      <th>pixel775</th>\n",
       "      <th>pixel776</th>\n",
       "      <th>pixel777</th>\n",
       "      <th>pixel778</th>\n",
       "      <th>pixel779</th>\n",
       "      <th>pixel780</th>\n",
       "      <th>pixel781</th>\n",
       "      <th>pixel782</th>\n",
       "      <th>pixel783</th>\n",
       "    </tr>\n",
       "  </thead>\n",
       "  <tbody>\n",
       "    <tr>\n",
       "      <th>0</th>\n",
       "      <td>1</td>\n",
       "      <td>0</td>\n",
       "      <td>0</td>\n",
       "      <td>0</td>\n",
       "      <td>0</td>\n",
       "      <td>0</td>\n",
       "      <td>0</td>\n",
       "      <td>0</td>\n",
       "      <td>0</td>\n",
       "      <td>0</td>\n",
       "      <td>...</td>\n",
       "      <td>0</td>\n",
       "      <td>0</td>\n",
       "      <td>0</td>\n",
       "      <td>0</td>\n",
       "      <td>0</td>\n",
       "      <td>0</td>\n",
       "      <td>0</td>\n",
       "      <td>0</td>\n",
       "      <td>0</td>\n",
       "      <td>0</td>\n",
       "    </tr>\n",
       "    <tr>\n",
       "      <th>1</th>\n",
       "      <td>0</td>\n",
       "      <td>0</td>\n",
       "      <td>0</td>\n",
       "      <td>0</td>\n",
       "      <td>0</td>\n",
       "      <td>0</td>\n",
       "      <td>0</td>\n",
       "      <td>0</td>\n",
       "      <td>0</td>\n",
       "      <td>0</td>\n",
       "      <td>...</td>\n",
       "      <td>0</td>\n",
       "      <td>0</td>\n",
       "      <td>0</td>\n",
       "      <td>0</td>\n",
       "      <td>0</td>\n",
       "      <td>0</td>\n",
       "      <td>0</td>\n",
       "      <td>0</td>\n",
       "      <td>0</td>\n",
       "      <td>0</td>\n",
       "    </tr>\n",
       "    <tr>\n",
       "      <th>2</th>\n",
       "      <td>1</td>\n",
       "      <td>0</td>\n",
       "      <td>0</td>\n",
       "      <td>0</td>\n",
       "      <td>0</td>\n",
       "      <td>0</td>\n",
       "      <td>0</td>\n",
       "      <td>0</td>\n",
       "      <td>0</td>\n",
       "      <td>0</td>\n",
       "      <td>...</td>\n",
       "      <td>0</td>\n",
       "      <td>0</td>\n",
       "      <td>0</td>\n",
       "      <td>0</td>\n",
       "      <td>0</td>\n",
       "      <td>0</td>\n",
       "      <td>0</td>\n",
       "      <td>0</td>\n",
       "      <td>0</td>\n",
       "      <td>0</td>\n",
       "    </tr>\n",
       "    <tr>\n",
       "      <th>3</th>\n",
       "      <td>4</td>\n",
       "      <td>0</td>\n",
       "      <td>0</td>\n",
       "      <td>0</td>\n",
       "      <td>0</td>\n",
       "      <td>0</td>\n",
       "      <td>0</td>\n",
       "      <td>0</td>\n",
       "      <td>0</td>\n",
       "      <td>0</td>\n",
       "      <td>...</td>\n",
       "      <td>0</td>\n",
       "      <td>0</td>\n",
       "      <td>0</td>\n",
       "      <td>0</td>\n",
       "      <td>0</td>\n",
       "      <td>0</td>\n",
       "      <td>0</td>\n",
       "      <td>0</td>\n",
       "      <td>0</td>\n",
       "      <td>0</td>\n",
       "    </tr>\n",
       "    <tr>\n",
       "      <th>4</th>\n",
       "      <td>0</td>\n",
       "      <td>0</td>\n",
       "      <td>0</td>\n",
       "      <td>0</td>\n",
       "      <td>0</td>\n",
       "      <td>0</td>\n",
       "      <td>0</td>\n",
       "      <td>0</td>\n",
       "      <td>0</td>\n",
       "      <td>0</td>\n",
       "      <td>...</td>\n",
       "      <td>0</td>\n",
       "      <td>0</td>\n",
       "      <td>0</td>\n",
       "      <td>0</td>\n",
       "      <td>0</td>\n",
       "      <td>0</td>\n",
       "      <td>0</td>\n",
       "      <td>0</td>\n",
       "      <td>0</td>\n",
       "      <td>0</td>\n",
       "    </tr>\n",
       "  </tbody>\n",
       "</table>\n",
       "<p>5 rows × 785 columns</p>\n",
       "</div>"
      ],
      "text/plain": [
       "   label  pixel0  pixel1  pixel2  pixel3  pixel4  pixel5  pixel6  pixel7  \\\n",
       "0      1       0       0       0       0       0       0       0       0   \n",
       "1      0       0       0       0       0       0       0       0       0   \n",
       "2      1       0       0       0       0       0       0       0       0   \n",
       "3      4       0       0       0       0       0       0       0       0   \n",
       "4      0       0       0       0       0       0       0       0       0   \n",
       "\n",
       "   pixel8  ...  pixel774  pixel775  pixel776  pixel777  pixel778  pixel779  \\\n",
       "0       0  ...         0         0         0         0         0         0   \n",
       "1       0  ...         0         0         0         0         0         0   \n",
       "2       0  ...         0         0         0         0         0         0   \n",
       "3       0  ...         0         0         0         0         0         0   \n",
       "4       0  ...         0         0         0         0         0         0   \n",
       "\n",
       "   pixel780  pixel781  pixel782  pixel783  \n",
       "0         0         0         0         0  \n",
       "1         0         0         0         0  \n",
       "2         0         0         0         0  \n",
       "3         0         0         0         0  \n",
       "4         0         0         0         0  \n",
       "\n",
       "[5 rows x 785 columns]"
      ]
     },
     "execution_count": 7,
     "metadata": {},
     "output_type": "execute_result"
    }
   ],
   "source": [
    "train_df.head()\n",
    "\n",
    "\n"
   ]
  },
  {
   "cell_type": "markdown",
   "metadata": {},
   "source": [
    "Prepare data"
   ]
  },
  {
   "cell_type": "code",
   "execution_count": 8,
   "metadata": {},
   "outputs": [
    {
     "name": "stdout",
     "output_type": "stream",
     "text": [
      "x_train shape: (37800, 28, 28, 1)\n",
      "y_train shape: (37800,)\n",
      "37800 train samples\n",
      "28000 test samples\n"
     ]
    }
   ],
   "source": [
    "# split the data into training and validation sets\n",
    "x_train, x_val, y_train, y_val = train_test_split(x_train, y_train, test_size = 0.1, random_state=2)\n",
    "\n",
    "# Scale images to the [0, 1] range\n",
    "x_train = x_train.astype(\"float32\") / 255\n",
    "x_test = x_test.astype(\"float32\") / 255\n",
    "\n",
    "# Make sure images have shape (28, 28, 1)\n",
    "x_train = x_train.reshape(-1, 28, 28, 1)\n",
    "x_test = x_test.reshape(-1, 28, 28, 1)\n",
    "x_val = x_val.reshape(-1, 28, 28, 1)\n",
    "print(\"x_train shape:\", x_train.shape)\n",
    "print(\"y_train shape:\", y_train.shape)\n",
    "print(x_train.shape[0], \"train samples\")\n",
    "print(x_test.shape[0], \"test samples\")"
   ]
  },
  {
   "cell_type": "markdown",
   "metadata": {},
   "source": [
    "Show preprocessed data"
   ]
  },
  {
   "cell_type": "code",
   "execution_count": 9,
   "metadata": {},
   "outputs": [
    {
     "data": {
      "image/png": "[encoded data removed]",
      "text/plain": [
       "<Figure size 2000x1000 with 50 Axes>"
      ]
     },
     "metadata": {},
     "output_type": "display_data"
    }
   ],
   "source": [
    "# Show 5 samples from each class\n",
    "classes = np.unique(y_train)\n",
    "n_classes = len(classes)\n",
    "samples_per_class = 5\n",
    "\n",
    "plt.figure(figsize=(20, 10))\n",
    "for y, cls in enumerate(classes):\n",
    "    idxs = np.flatnonzero(y_train == y)\n",
    "    idxs = np.random.choice(idxs, samples_per_class, replace=False)\n",
    "    for i, idx in enumerate(idxs):\n",
    "        plt_idx = i * n_classes + y + 1\n",
    "        plt.subplot(samples_per_class, n_classes, plt_idx)\n",
    "        plt.imshow(x_train[idx].reshape(28, 28), cmap='gray')\n",
    "        plt.axis(\"off\")\n",
    "        if i == 0:\n",
    "            plt.title(cls)\n",
    "\n"
   ]
  },
  {
   "cell_type": "markdown",
   "metadata": {},
   "source": [
    "Show augmented examples"
   ]
  },
  {
   "cell_type": "code",
   "execution_count": 10,
   "metadata": {},
   "outputs": [
    {
     "name": "stderr",
     "output_type": "stream",
     "text": [
      "2024-05-19 08:31:06.555047: I external/local_xla/xla/stream_executor/cuda/cuda_executor.cc:998] successful NUMA node read from SysFS had negative value (-1), but there must be at least one NUMA node, so returning NUMA node zero. See more at https://github.com/torvalds/linux/blob/v6.0/Documentation/ABI/testing/sysfs-bus-pci#L344-L355\n",
      "2024-05-19 08:31:06.555673: I external/local_xla/xla/stream_executor/cuda/cuda_executor.cc:998] successful NUMA node read from SysFS had negative value (-1), but there must be at least one NUMA node, so returning NUMA node zero. See more at https://github.com/torvalds/linux/blob/v6.0/Documentation/ABI/testing/sysfs-bus-pci#L344-L355\n",
      "2024-05-19 08:31:06.555732: I external/local_xla/xla/stream_executor/cuda/cuda_executor.cc:998] successful NUMA node read from SysFS had negative value (-1), but there must be at least one NUMA node, so returning NUMA node zero. See more at https://github.com/torvalds/linux/blob/v6.0/Documentation/ABI/testing/sysfs-bus-pci#L344-L355\n",
      "2024-05-19 08:31:06.568749: I external/local_xla/xla/stream_executor/cuda/cuda_executor.cc:998] successful NUMA node read from SysFS had negative value (-1), but there must be at least one NUMA node, so returning NUMA node zero. See more at https://github.com/torvalds/linux/blob/v6.0/Documentation/ABI/testing/sysfs-bus-pci#L344-L355\n",
      "2024-05-19 08:31:06.568847: I external/local_xla/xla/stream_executor/cuda/cuda_executor.cc:998] successful NUMA node read from SysFS had negative value (-1), but there must be at least one NUMA node, so returning NUMA node zero. See more at https://github.com/torvalds/linux/blob/v6.0/Documentation/ABI/testing/sysfs-bus-pci#L344-L355\n",
      "2024-05-19 08:31:06.568892: I external/local_xla/xla/stream_executor/cuda/cuda_executor.cc:998] successful NUMA node read from SysFS had negative value (-1), but there must be at least one NUMA node, so returning NUMA node zero. See more at https://github.com/torvalds/linux/blob/v6.0/Documentation/ABI/testing/sysfs-bus-pci#L344-L355\n",
      "2024-05-19 08:31:06.612328: I external/local_xla/xla/stream_executor/cuda/cuda_executor.cc:998] successful NUMA node read from SysFS had negative value (-1), but there must be at least one NUMA node, so returning NUMA node zero. See more at https://github.com/torvalds/linux/blob/v6.0/Documentation/ABI/testing/sysfs-bus-pci#L344-L355\n",
      "2024-05-19 08:31:06.612413: I external/local_xla/xla/stream_executor/cuda/cuda_executor.cc:998] successful NUMA node read from SysFS had negative value (-1), but there must be at least one NUMA node, so returning NUMA node zero. See more at https://github.com/torvalds/linux/blob/v6.0/Documentation/ABI/testing/sysfs-bus-pci#L344-L355\n",
      "2024-05-19 08:31:06.612465: I external/local_xla/xla/stream_executor/cuda/cuda_executor.cc:998] successful NUMA node read from SysFS had negative value (-1), but there must be at least one NUMA node, so returning NUMA node zero. See more at https://github.com/torvalds/linux/blob/v6.0/Documentation/ABI/testing/sysfs-bus-pci#L344-L355\n",
      "2024-05-19 08:31:06.612512: I tensorflow/core/common_runtime/gpu/gpu_device.cc:1928] Created device /job:localhost/replica:0/task:0/device:GPU:0 with 21533 MB memory:  -> device: 0, name: NVIDIA GeForce RTX 4090, pci bus id: 0000:01:00.0, compute capability: 8.9\n"
     ]
    },
    {
     "data": {
      "image/png": "[encoded data removed]",
      "text/plain": [
       "<Figure size 2500x1000 with 110 Axes>"
      ]
     },
     "metadata": {},
     "output_type": "display_data"
    }
   ],
   "source": [
    "gpus = tf.config.experimental.list_physical_devices('GPU')\n",
    "if gpus:\n",
    "    try:\n",
    "        for gpu in gpus:\n",
    "            tf.config.experimental.set_memory_growth(gpu, True)\n",
    "    except RuntimeError as e:\n",
    "        print(e)\n",
    "cfg = util.load_and_override_config(\".\", \"config\")\n",
    "data_augmentation = util.get_data_augmentation_layers(cfg.data_augmentation)\n",
    "\n",
    "import matplotlib.pyplot as plt\n",
    "import tensorflow as tf\n",
    "\n",
    "def plot_augmented_images_per_class(data_augmentation, x_train, y_train, num_classes=10):\n",
    "    plt.figure(figsize=(25, 10))\n",
    "    \n",
    "    for class_idx in range(num_classes):\n",
    "        # Get the first image of the current class\n",
    "        class_images = x_train[y_train == class_idx]\n",
    "        first_image = class_images[:1]\n",
    "        \n",
    "        # Plot the original image with no augmentation\n",
    "        ax = plt.subplot(num_classes, 11, class_idx * 11 + 1)\n",
    "        plt.imshow(first_image[0], cmap='gray')\n",
    "        plt.title(f\"Class {class_idx}\")\n",
    "        plt.axis(\"off\")\n",
    "        \n",
    "        # Plot 10 augmented images\n",
    "        for i in range(10):\n",
    "            augmented_image = data_augmentation(first_image)\n",
    "            ax = plt.subplot(num_classes, 11, class_idx * 11 + i + 2)\n",
    "            plt.imshow(augmented_image[0], cmap='gray')\n",
    "            plt.axis(\"off\")\n",
    "    \n",
    "    plt.show()\n",
    "\n",
    "# Assuming x_train and y_train are your training images and labels\n",
    "plot_augmented_images_per_class(data_augmentation, x_train, y_train)\n"
   ]
  },
  {
   "cell_type": "markdown",
   "metadata": {},
   "source": [
    "Save preprocessed data for training"
   ]
  },
  {
   "cell_type": "code",
   "execution_count": 11,
   "metadata": {},
   "outputs": [],
   "source": [
    "# Make sure dir exists\n",
    "os.makedirs(cfg.preprocessed_data_path, exist_ok=True)\n",
    "# Save the data\n",
    "np.save(cfg.x_train_path, x_train,)\n",
    "np.save(cfg.y_train_path, y_train)\n",
    "np.save(cfg.x_val_path, x_val)\n",
    "np.save(cfg.y_val_path, y_val)\n",
    "np.save(cfg.x_test_path, x_test)\n"
   ]
  },
  {
   "cell_type": "code",
   "execution_count": 12,
   "metadata": {},
   "outputs": [
    {
     "name": "stdout",
     "output_type": "stream",
     "text": [
      "OmegaConf\t cfg\t classes\t cls\t competition_name\t data_augmentation\t data_dir\t device\t display\t \n",
      "gc\t gpu\t gpus\t i\t idx\t idxs\t kaggle\t keras\t layers\t \n",
      "n_classes\t np\t os\t pd\t plot_augmented_images_per_class\t plt\t plt_idx\t samples_per_class\t test_df\t \n",
      "tf\t time\t torch\t train_df\t train_test_split\t util\t wandb\t x_test\t x_train\t \n",
      "x_val\t y\t y_train\t y_val\t zip_ref\t zipfile\t \n",
      "Variable                          Type              Data/Info\n",
      "-------------------------------------------------------------\n",
      "OmegaConf                         type              <class 'omegaconf.omegaconf.OmegaConf'>\n",
      "cfg                               DictConfig        {'project_name': 'Day3', <...>e_range': [0.0, 1.0]}}}}}\n",
      "classes                           ndarray           10: 10 elems, type `int64`, 80 bytes\n",
      "cls                               int64             9\n",
      "competition_name                  str               digit-recognizer\n",
      "data_augmentation                 Sequential        <Sequential name=sequential, built=True>\n",
      "data_dir                          str               MyDataset/mnist/raw\n",
      "device                            device            cuda:0\n",
      "display                           module            <module 'IPython.display'<...>ages/IPython/display.py'>\n",
      "gc                                module            <module 'gc' (built-in)>\n",
      "gpu                               PhysicalDevice    PhysicalDevice(name='/phy<...>PU:0', device_type='GPU')\n",
      "gpus                              list              n=1\n",
      "i                                 int               4\n",
      "idx                               int64             11026\n",
      "idxs                              ndarray           5: 5 elems, type `int64`, 40 bytes\n",
      "kaggle                            module            <module 'kaggle' from '/u<...>ages/kaggle/__init__.py'>\n",
      "keras                             module            <module 'keras' from '/us<...>kages/keras/__init__.py'>\n",
      "layers                            module            <module 'keras.api.layers<...>/api/layers/__init__.py'>\n",
      "n_classes                         int               10\n",
      "np                                module            <module 'numpy' from '/us<...>kages/numpy/__init__.py'>\n",
      "os                                module            <module 'os' from '/usr/lib/python3.10/os.py'>\n",
      "pd                                module            <module 'pandas' from '/u<...>ages/pandas/__init__.py'>\n",
      "plot_augmented_images_per_class   function          <function plot_augmented_<...>_class at 0x7302b4d07ac0>\n",
      "plt                               module            <module 'matplotlib.pyplo<...>es/matplotlib/pyplot.py'>\n",
      "plt_idx                           int               50\n",
      "samples_per_class                 int               5\n",
      "test_df                           DataFrame                pixel0  pixel1  pi<...>28000 rows x 784 columns]\n",
      "tf                                module            <module 'tensorflow' from<...>/tensorflow/__init__.py'>\n",
      "time                              module            <module 'time' (built-in)>\n",
      "torch                             module            <module 'torch' from '/us<...>kages/torch/__init__.py'>\n",
      "train_df                          DataFrame                label  pixel0  pix<...>42000 rows x 785 columns]\n",
      "train_test_split                  function          <function train_test_split at 0x730390241c60>\n",
      "util                              module            <module 'MyUtils.Util.Mis<...>ay/MyUtils/Util/Misc.py'>\n",
      "wandb                             module            <module 'wandb' from '/us<...>kages/wandb/__init__.py'>\n",
      "x_test                            ndarray           28000x28x28x1: 21952000 elems, type `float32`, 87808000 bytes (83.740234375 Mb)\n",
      "x_train                           ndarray           37800x28x28x1: 29635200 elems, type `float32`, 118540800 bytes (113.04931640625 Mb)\n",
      "x_val                             ndarray           4200x28x28x1: 3292800 elems, type `int64`, 26342400 bytes (25.1220703125 Mb)\n",
      "y                                 int               9\n",
      "y_train                           ndarray           37800: 37800 elems, type `int64`, 302400 bytes (295.3125 kb)\n",
      "y_val                             ndarray           4200: 4200 elems, type `int64`, 33600 bytes\n",
      "zip_ref                           ZipFile           <zipfile.ZipFile [closed]>\n",
      "zipfile                           module            <module 'zipfile' from '/<...>b/python3.10/zipfile.py'>\n"
     ]
    },
    {
     "data": {
      "text/plain": [
       "783"
      ]
     },
     "execution_count": 12,
     "metadata": {},
     "output_type": "execute_result"
    }
   ],
   "source": [
    "# free memory\n",
    "%who\n",
    "%whos\n",
    "gc.collect()\n",
    "del data_augmentation\n",
    "del x_train\n",
    "del y_train\n",
    "del x_val\n",
    "del y_val\n",
    "del x_test\n",
    "del train_df\n",
    "del test_df\n",
    "\n",
    "gc.collect()"
   ]
  },
  {
   "cell_type": "markdown",
   "metadata": {},
   "source": [
    "## Prepare sweep"
   ]
  },
  {
   "cell_type": "code",
   "execution_count": 13,
   "metadata": {},
   "outputs": [
    {
     "name": "stdout",
     "output_type": "stream",
     "text": [
      "{'name': 'data_augmentation_sweep', 'program': 'train.py', 'method': 'grid', 'metric': {'goal': 'maximize', 'name': 'epoch/val_acc'}, 'parameters': {'data_augmentation.layers.RandomRotation.kwargs.factor': {'values': [0, 0.1, 0.5]}, 'data_augmentation.layers.RandomContrast.kwargs.factor': {'values': [0, 0.1, 0.5]}, 'data_augmentation.layers.RandomBrightness.kwargs.factor': {'values': [0, 0.1, 0.5]}, 'data_augmentation.layers.RandomZoom.factor': {'values': [0, 0.1, 0.5]}, 'data_augmentation.layers.RandomTranslation.factor': {'values': [0, 0.1, 0.5]}}}\n"
     ]
    }
   ],
   "source": [
    "sweep_configuration_yaml = \"\"\"\n",
    "name: data_augmentation_sweep\n",
    "program: train.py\n",
    "method: grid\n",
    "metric:\n",
    "    goal: maximize\n",
    "    name: epoch/val_acc\n",
    "parameters:\n",
    "    data_augmentation.layers.RandomRotation.kwargs.factor:\n",
    "        values: [0, 0.1, 0.5]\n",
    "    data_augmentation.layers.RandomContrast.kwargs.factor:\n",
    "        values: [0, 0.1, 0.5]\n",
    "    data_augmentation.layers.RandomBrightness.kwargs.factor:\n",
    "        values: [0, 0.1, 0.5]\n",
    "    data_augmentation.layers.RandomZoom.factor:\n",
    "        values: [0, 0.1, 0.5]\n",
    "    data_augmentation.layers.RandomTranslation.factor:\n",
    "        values: [0, 0.1, 0.5]\n",
    "\n",
    "\n",
    "  \"\"\"\n",
    "cfg = util.load_and_override_config(\".\", \"config\")\n",
    "# Create an OmegaConf object from the YAML string\n",
    "sweep_config = OmegaConf.create(sweep_configuration_yaml)\n",
    "\n",
    "# Convert the OmegaConf object to a regular Python dictionary\n",
    "wandb_sweep_config = OmegaConf.to_container(sweep_config, resolve=True)\n",
    "\n",
    "# Ensure the dictionary is correctly formatted for wandb.sweep\n",
    "wandb_sweep_config = dict(wandb_sweep_config)\n",
    "\n",
    "# Print the converted configuration to verify\n",
    "print(wandb_sweep_config)\n",
    "\n",
    "# Initialize a Weights & Biases sweep with the configuration\n",
    "sweep_id = util.get_or_create_sweep_id(cfg.project_name,wandb_sweep_config)\n",
    "#wait for sweep to be created\n",
    "time.sleep(5)\n",
    "\n"
   ]
  },
  {
   "cell_type": "markdown",
   "metadata": {},
   "source": [
    "## Run training Script"
   ]
  },
  {
   "cell_type": "code",
   "execution_count": null,
   "metadata": {},
   "outputs": [],
   "source": [
    "run_scripts = False\n",
    "# Define the tmux session name and the list of scripts to execute\n",
    "tmux_session_name = \"devenv_session\"\n",
    "is_sweep = True\n",
    "\n",
    "if run_scripts:\n",
    "    if is_sweep: \n",
    "        #script = [\"wandb agent -p Day3 -e frizzerdk --count 20 \" + sweep_id] \n",
    "        sweep_count_string = \" --count \" +str(cfg.sweep_count) +\" \" if cfg.sweep_count>0 else \" \"\n",
    "        script = [\"wandb agent -p \"+cfg.project_name+\" -e \"+cfg.username+sweep_count_string  + sweep_id] \n",
    "        n_repeats = 1\n",
    "        # Repeat the scripts n_repeats times\n",
    "        scripts = script * n_repeats\n",
    "    else:\n",
    "        # Define the list of scripts to execute\n",
    "        scripts = [\"python3 train.py\"] \n",
    "\n",
    "    # Check if the session already exists\n",
    "    existing_sessions = !tmux ls 2> /dev/null\n",
    "    session_exists = any(tmux_session_name in session for session in existing_sessions)\n",
    "\n",
    "    # If the session exists, kill it\n",
    "    if session_exists:\n",
    "        print(f\"Session '{tmux_session_name}' already exists. Killing the session.\")\n",
    "        !tmux kill-session -t {tmux_session_name}\n",
    "\n",
    "    # Start a new tmux session i folder of current file\n",
    "    file_path = os.path.abspath(\"train.py\")\n",
    "    print(f\"Creating a new session: {tmux_session_name}\")\n",
    "    !tmux new-session -d -s {tmux_session_name} -n main -c {os.path.dirname(file_path)}\n",
    "\n",
    "    # Select the first window\n",
    "    first_window_name = \"main\"\n",
    "\n",
    "    # Initialize the first pane with the first script\n",
    "    print(f\"Running script {scripts[0]} in the first pane\")\n",
    "    !tmux send-keys -t {tmux_session_name}:{first_window_name}.0 \"{scripts[0]}\" Enter\n",
    "\n",
    "    # For subsequent scripts, create a new pane and execute the script\n",
    "    for i, script in enumerate(scripts[1:], start=1):\n",
    "        # sleep for 5 seconds to allow the previous script to start\n",
    "        time.sleep(5)\n",
    "        print(f\"Creating pane {i} for script {script}\")\n",
    "        # Split the window to add a new pane\n",
    "        !tmux split-window -t {tmux_session_name}:{first_window_name}\n",
    "        # Send the command to execute the script in the new pane\n",
    "        !tmux send-keys -t {tmux_session_name}:{first_window_name}.{i} \"python3 {script}\" Enter\n",
    "\n",
    "    # set main-pane-width\n",
    "    !tmux setw -t {tmux_session_name} main-pane-width 50%\n",
    "\n",
    "    # Apply a layout to distribute panes evenly\n",
    "    !tmux select-layout -t {tmux_session_name}:{first_window_name} main-vertical\n",
    "    #!:set -g mouse on\n",
    "\n",
    "\n",
    "    # Optional: Attach to the tmux session (commented for Jupyter notebook)\n",
    "    #tmux attach-session -t devenv_session\n"
   ]
  },
  {
   "cell_type": "markdown",
   "metadata": {},
   "source": [
    "## Evalutate trained models"
   ]
  },
  {
   "cell_type": "code",
   "execution_count": 14,
   "metadata": {},
   "outputs": [
    {
     "name": "stdout",
     "output_type": "stream",
     "text": [
      "Found 243 runs in the sweep.\n",
      "Identified the top 3 runs.\n",
      "Best overall run: splendid-sweep-166\n",
      "Top run IDs: {'ln6thpef', 'rzwdfsba', '5zog2bhn'}\n",
      "Processing run splendid-sweep-166...\n"
     ]
    },
    {
     "name": "stderr",
     "output_type": "stream",
     "text": [
      "\u001b[34m\u001b[1mwandb\u001b[0m:   1 of 1 files downloaded.  \n"
     ]
    },
    {
     "name": "stdout",
     "output_type": "stream",
     "text": [
      "Saved ./best_models/splendid-sweep-166.keras locally.\n",
      "Saved the best overall model as ./best_models/overall_best_model.keras.\n",
      "Processing run wise-sweep-194...\n"
     ]
    },
    {
     "name": "stderr",
     "output_type": "stream",
     "text": [
      "\u001b[34m\u001b[1mwandb\u001b[0m:   1 of 1 files downloaded.  \n"
     ]
    },
    {
     "name": "stdout",
     "output_type": "stream",
     "text": [
      "Saved ./best_models/wise-sweep-194.keras locally.\n",
      "Processing run swift-sweep-229...\n"
     ]
    },
    {
     "name": "stderr",
     "output_type": "stream",
     "text": [
      "\u001b[34m\u001b[1mwandb\u001b[0m:   1 of 1 files downloaded.  \n"
     ]
    },
    {
     "name": "stdout",
     "output_type": "stream",
     "text": [
      "Saved ./best_models/swift-sweep-229.keras locally.\n",
      "Skipping deletion of artifact from run comic-sweep-219.\n",
      "Skipping deletion of artifact from run desert-sweep-191.\n",
      "Skipping deletion of artifact from run sweet-sweep-136.\n",
      "Skipping deletion of artifact from run breezy-sweep-110.\n",
      "Skipping deletion of artifact from run devoted-sweep-228.\n",
      "Skipping deletion of artifact from run wandering-sweep-226.\n",
      "Skipping deletion of artifact from run dark-sweep-221.\n",
      "Skipping deletion of artifact from run wild-sweep-193.\n",
      "Skipping deletion of artifact from run sleek-sweep-192.\n",
      "Skipping deletion of artifact from run curious-sweep-220.\n",
      "Skipping deletion of artifact from run stilted-sweep-2.\n",
      "Skipping deletion of artifact from run apricot-sweep-1.\n",
      "Skipping deletion of artifact from run jumping-sweep-202.\n",
      "Skipping deletion of artifact from run distinctive-sweep-176.\n",
      "Skipping deletion of artifact from run rural-sweep-172.\n",
      "Skipping deletion of artifact from run zesty-sweep-167.\n",
      "Skipping deletion of artifact from run neat-sweep-163.\n",
      "Skipping deletion of artifact from run azure-sweep-140.\n",
      "Skipping deletion of artifact from run denim-sweep-92.\n",
      "Skipping deletion of artifact from run vague-sweep-85.\n",
      "Skipping deletion of artifact from run misunderstood-sweep-190.\n",
      "Skipping deletion of artifact from run woven-sweep-165.\n",
      "Skipping deletion of artifact from run smart-sweep-139.\n",
      "Skipping deletion of artifact from run cosmic-sweep-118.\n",
      "Skipping deletion of artifact from run neat-sweep-113.\n",
      "Skipping deletion of artifact from run earthy-sweep-109.\n",
      "Skipping deletion of artifact from run pretty-sweep-91.\n",
      "Skipping deletion of artifact from run wise-sweep-84.\n",
      "Skipping deletion of artifact from run easy-sweep-218.\n",
      "Skipping deletion of artifact from run whole-sweep-217.\n",
      "Skipping deletion of artifact from run glamorous-sweep-203.\n",
      "Skipping deletion of artifact from run dark-sweep-199.\n",
      "Skipping deletion of artifact from run fine-sweep-164.\n",
      "Skipping deletion of artifact from run youthful-sweep-112.\n",
      "Skipping deletion of artifact from run proud-sweep-29.\n",
      "Skipping deletion of artifact from run worldly-sweep-227.\n",
      "Skipping deletion of artifact from run restful-sweep-175.\n",
      "Skipping deletion of artifact from run firm-sweep-173.\n",
      "Skipping deletion of artifact from run curious-sweep-169.\n",
      "Skipping deletion of artifact from run restful-sweep-137.\n",
      "Skipping deletion of artifact from run stilted-sweep-56.\n",
      "Skipping deletion of artifact from run vague-sweep-222.\n",
      "Skipping deletion of artifact from run misty-sweep-119.\n",
      "Skipping deletion of artifact from run silvery-sweep-83.\n",
      "Skipping deletion of artifact from run amber-sweep-82.\n",
      "Skipping deletion of artifact from run whole-sweep-55.\n",
      "Skipping deletion of artifact from run dainty-sweep-230.\n",
      "Skipping deletion of artifact from run crisp-sweep-223.\n",
      "Skipping deletion of artifact from run restful-sweep-200.\n",
      "Skipping deletion of artifact from run bumbling-sweep-146.\n",
      "Skipping deletion of artifact from run earthy-sweep-138.\n",
      "Skipping deletion of artifact from run volcanic-sweep-86.\n",
      "Skipping deletion of artifact from run glamorous-sweep-196.\n",
      "Skipping deletion of artifact from run misunderstood-sweep-145.\n",
      "Skipping deletion of artifact from run ruby-sweep-121.\n",
      "Skipping deletion of artifact from run fancy-sweep-28.\n",
      "Skipping deletion of artifact from run playful-sweep-10.\n",
      "Skipping deletion of artifact from run young-sweep-64.\n",
      "Skipping deletion of artifact from run woven-sweep-38.\n",
      "Skipping deletion of artifact from run true-sweep-37.\n",
      "Skipping deletion of artifact from run youthful-sweep-31.\n",
      "Skipping deletion of artifact from run magic-sweep-142.\n",
      "Skipping deletion of artifact from run classic-sweep-4.\n",
      "Skipping deletion of artifact from run wise-sweep-11.\n",
      "Skipping deletion of artifact from run crimson-sweep-116.\n",
      "Skipping deletion of artifact from run restful-sweep-111.\n",
      "Skipping deletion of artifact from run zesty-sweep-65.\n",
      "Skipping deletion of artifact from run decent-sweep-170.\n",
      "Skipping deletion of artifact from run dashing-sweep-147.\n",
      "Skipping deletion of artifact from run laced-sweep-122.\n",
      "Skipping deletion of artifact from run fine-sweep-195.\n",
      "Skipping deletion of artifact from run pious-sweep-149.\n",
      "Skipping deletion of artifact from run soft-sweep-115.\n",
      "Skipping deletion of artifact from run comfy-sweep-197.\n",
      "Skipping deletion of artifact from run tough-sweep-201.\n",
      "Skipping deletion of artifact from run vivid-sweep-224.\n",
      "Skipping deletion of artifact from run still-sweep-143.\n",
      "Skipping deletion of artifact from run super-sweep-58.\n",
      "Skipping deletion of artifact from run different-sweep-3.\n",
      "Skipping deletion of artifact from run wise-sweep-148.\n",
      "Skipping deletion of artifact from run gallant-sweep-13.\n",
      "Skipping deletion of artifact from run copper-sweep-231.\n",
      "Skipping deletion of artifact from run charmed-sweep-120.\n",
      "Skipping deletion of artifact from run smooth-sweep-5.\n",
      "Skipping deletion of artifact from run pious-sweep-40.\n",
      "Skipping deletion of artifact from run leafy-sweep-94.\n",
      "Skipping deletion of artifact from run misty-sweep-89.\n",
      "Skipping deletion of artifact from run pretty-sweep-32.\n",
      "Skipping deletion of artifact from run zesty-sweep-95.\n",
      "Skipping deletion of artifact from run serene-sweep-41.\n",
      "Skipping deletion of artifact from run solar-sweep-14.\n",
      "Skipping deletion of artifact from run bright-sweep-174.\n",
      "Skipping deletion of artifact from run autumn-sweep-59.\n",
      "Skipping deletion of artifact from run apricot-sweep-67.\n",
      "Skipping deletion of artifact from run resilient-sweep-168.\n",
      "Skipping deletion of artifact from run resilient-sweep-68.\n",
      "Skipping deletion of artifact from run fallen-sweep-93.\n",
      "Skipping deletion of artifact from run deft-sweep-144.\n",
      "Skipping deletion of artifact from run worthy-sweep-57.\n",
      "Skipping deletion of artifact from run polished-sweep-205.\n",
      "Skipping deletion of artifact from run clear-sweep-35.\n",
      "Skipping deletion of artifact from run smooth-sweep-30.\n",
      "Skipping deletion of artifact from run vivid-sweep-124.\n",
      "Skipping deletion of artifact from run earnest-sweep-61.\n",
      "Skipping deletion of artifact from run fresh-sweep-178.\n",
      "Skipping deletion of artifact from run rare-sweep-88.\n",
      "Skipping deletion of artifact from run cool-sweep-232.\n",
      "Skipping deletion of artifact from run pretty-sweep-204.\n",
      "Skipping deletion of artifact from run deft-sweep-62.\n",
      "Skipping deletion of artifact from run treasured-sweep-8.\n",
      "Skipping deletion of artifact from run usual-sweep-141.\n",
      "Skipping deletion of artifact from run warm-sweep-7.\n",
      "Skipping deletion of artifact from run smart-sweep-63.\n",
      "Skipping deletion of artifact from run earthy-sweep-125.\n",
      "Skipping deletion of artifact from run lively-sweep-179.\n",
      "Skipping deletion of artifact from run ruby-sweep-90.\n",
      "Skipping deletion of artifact from run frosty-sweep-12.\n",
      "Skipping deletion of artifact from run rosy-sweep-206.\n",
      "Skipping deletion of artifact from run devoted-sweep-97.\n",
      "Skipping deletion of artifact from run kind-sweep-151.\n",
      "Skipping deletion of artifact from run bright-sweep-87.\n",
      "Skipping deletion of artifact from run icy-sweep-34.\n",
      "Skipping deletion of artifact from run magic-sweep-171.\n",
      "Skipping deletion of artifact from run visionary-sweep-150.\n",
      "Skipping deletion of artifact from run quiet-sweep-96.\n",
      "Skipping deletion of artifact from run fresh-sweep-208.\n",
      "Skipping deletion of artifact from run prime-sweep-198.\n",
      "Skipping deletion of artifact from run neat-sweep-235.\n",
      "Skipping deletion of artifact from run dandy-sweep-123.\n",
      "Skipping deletion of artifact from run kind-sweep-100.\n",
      "Skipping deletion of artifact from run serene-sweep-181.\n",
      "Skipping deletion of artifact from run cosmic-sweep-43.\n",
      "Skipping deletion of artifact from run genial-sweep-233.\n",
      "Skipping deletion of artifact from run fresh-sweep-117.\n",
      "Skipping deletion of artifact from run fiery-sweep-39.\n",
      "Skipping deletion of artifact from run zany-sweep-236.\n",
      "Skipping deletion of artifact from run vivid-sweep-177.\n",
      "Skipping deletion of artifact from run woven-sweep-9.\n",
      "Skipping deletion of artifact from run iconic-sweep-130.\n",
      "Skipping deletion of artifact from run atomic-sweep-66.\n",
      "Skipping deletion of artifact from run rose-sweep-154.\n",
      "Skipping deletion of artifact from run tough-sweep-234.\n",
      "Skipping deletion of artifact from run graceful-sweep-184.\n",
      "Skipping deletion of artifact from run swift-sweep-127.\n",
      "Skipping deletion of artifact from run serene-sweep-153.\n",
      "Skipping deletion of artifact from run fallen-sweep-238.\n",
      "Skipping deletion of artifact from run light-sweep-209.\n",
      "Skipping deletion of artifact from run smooth-sweep-182.\n",
      "Skipping deletion of artifact from run golden-sweep-128.\n",
      "Skipping deletion of artifact from run decent-sweep-103.\n",
      "Skipping deletion of artifact from run stellar-sweep-69.\n",
      "Skipping deletion of artifact from run glad-sweep-74.\n",
      "Skipping deletion of artifact from run playful-sweep-207.\n",
      "Skipping deletion of artifact from run graceful-sweep-98.\n",
      "Skipping deletion of artifact from run sparkling-sweep-114.\n",
      "Skipping deletion of artifact from run still-sweep-36.\n",
      "Skipping deletion of artifact from run golden-sweep-155.\n",
      "Skipping deletion of artifact from run cerulean-sweep-126.\n",
      "Skipping deletion of artifact from run ethereal-sweep-185.\n",
      "Skipping deletion of artifact from run proud-sweep-212.\n",
      "Skipping deletion of artifact from run swift-sweep-239.\n",
      "Skipping deletion of artifact from run fine-sweep-211.\n",
      "Skipping deletion of artifact from run comfy-sweep-42.\n",
      "Skipping deletion of artifact from run upbeat-sweep-19.\n",
      "Skipping deletion of artifact from run vital-sweep-237.\n",
      "Skipping deletion of artifact from run icy-sweep-47.\n",
      "Skipping deletion of artifact from run rich-sweep-73.\n",
      "Skipping deletion of artifact from run lilac-sweep-101.\n",
      "Skipping deletion of artifact from run peach-sweep-131.\n",
      "Skipping deletion of artifact from run laced-sweep-180.\n",
      "Skipping deletion of artifact from run earnest-sweep-152.\n",
      "Skipping deletion of artifact from run vivid-sweep-33.\n",
      "Skipping deletion of artifact from run serene-sweep-15.\n",
      "Skipping deletion of artifact from run super-sweep-104.\n",
      "Skipping deletion of artifact from run drawn-sweep-16.\n",
      "Skipping deletion of artifact from run worthy-sweep-50.\n",
      "Skipping deletion of artifact from run lilac-sweep-71.\n",
      "Skipping deletion of artifact from run stoic-sweep-6.\n",
      "Skipping deletion of artifact from run lively-sweep-60.\n",
      "Skipping deletion of artifact from run stellar-sweep-240.\n",
      "Skipping deletion of artifact from run serene-sweep-20.\n",
      "Skipping deletion of artifact from run feasible-sweep-157.\n",
      "Skipping deletion of artifact from run lyric-sweep-46.\n",
      "Skipping deletion of artifact from run deep-sweep-158.\n",
      "Skipping deletion of artifact from run dashing-sweep-22.\n",
      "Skipping deletion of artifact from run fresh-sweep-76.\n",
      "Skipping deletion of artifact from run distinctive-sweep-17.\n",
      "Skipping deletion of artifact from run eager-sweep-77.\n",
      "Skipping deletion of artifact from run daily-sweep-210.\n",
      "Skipping deletion of artifact from run silvery-sweep-18.\n",
      "Skipping deletion of artifact from run earthy-sweep-49.\n",
      "Skipping deletion of artifact from run eager-sweep-156.\n",
      "Skipping deletion of artifact from run mild-sweep-72.\n",
      "Skipping deletion of artifact from run fallen-sweep-214.\n",
      "Skipping deletion of artifact from run unique-sweep-160.\n",
      "Skipping deletion of artifact from run dainty-sweep-241.\n",
      "Skipping deletion of artifact from run avid-sweep-215.\n",
      "Skipping deletion of artifact from run vibrant-sweep-188.\n",
      "Skipping deletion of artifact from run vague-sweep-134.\n",
      "Skipping deletion of artifact from run dulcet-sweep-70.\n",
      "Skipping deletion of artifact from run grateful-sweep-161.\n",
      "Skipping deletion of artifact from run floral-sweep-102.\n",
      "Skipping deletion of artifact from run firm-sweep-99.\n",
      "Skipping deletion of artifact from run morning-sweep-242.\n",
      "Skipping deletion of artifact from run fresh-sweep-159.\n",
      "Skipping deletion of artifact from run fine-sweep-132.\n",
      "Skipping deletion of artifact from run chocolate-sweep-129.\n",
      "Skipping deletion of artifact from run fine-sweep-44.\n",
      "Skipping deletion of artifact from run ethereal-sweep-162.\n",
      "Skipping deletion of artifact from run spring-sweep-75.\n",
      "Skipping deletion of artifact from run splendid-sweep-107.\n",
      "Skipping deletion of artifact from run swept-sweep-133.\n",
      "Skipping deletion of artifact from run atomic-sweep-45.\n",
      "Skipping deletion of artifact from run vague-sweep-183.\n",
      "Skipping deletion of artifact from run stoic-sweep-213.\n",
      "Skipping deletion of artifact from run classic-sweep-186.\n",
      "Skipping deletion of artifact from run bumbling-sweep-48.\n",
      "Skipping deletion of artifact from run smooth-sweep-23.\n",
      "Skipping deletion of artifact from run fanciful-sweep-243.\n",
      "Skipping deletion of artifact from run devout-sweep-105.\n",
      "Skipping deletion of artifact from run deep-sweep-189.\n",
      "Skipping deletion of artifact from run dutiful-sweep-51.\n",
      "Skipping deletion of artifact from run daily-sweep-78.\n",
      "Skipping deletion of artifact from run genial-sweep-106.\n",
      "Skipping deletion of artifact from run devout-sweep-216.\n",
      "Skipping deletion of artifact from run dutiful-sweep-25.\n",
      "Skipping deletion of artifact from run radiant-sweep-21.\n",
      "Skipping deletion of artifact from run restful-sweep-80.\n",
      "Skipping deletion of artifact from run rich-sweep-135.\n",
      "Skipping deletion of artifact from run bright-sweep-79.\n",
      "Skipping deletion of artifact from run wandering-sweep-81.\n",
      "Skipping deletion of artifact from run glorious-sweep-24.\n",
      "Skipping deletion of artifact from run rich-sweep-26.\n",
      "Skipping deletion of artifact from run sunny-sweep-52.\n",
      "Skipping deletion of artifact from run glorious-sweep-108.\n",
      "Skipping deletion of artifact from run electric-sweep-54.\n",
      "Skipping deletion of artifact from run lively-sweep-27.\n",
      "Skipping deletion of artifact from run swept-sweep-53.\n",
      "Skipping deletion of artifact from run unique-sweep-225.\n",
      "Skipping deletion of artifact from run copper-sweep-187.\n",
      "Completed processing the models.\n"
     ]
    }
   ],
   "source": [
    "sort_metric = \"epoch/val_acc\"\n",
    "sort_lambda = lambda run: run.summary.get(sort_metric, {}).get(\"max\", 0)\n",
    "util.cleanup_and_save_top_models(cfg.project_name, cfg.username, sweep_id=sweep_id, top_x=3,sort_lambda=sort_lambda,delete_other=False)\n",
    "\n"
   ]
  },
  {
   "cell_type": "code",
   "execution_count": 15,
   "metadata": {},
   "outputs": [],
   "source": [
    "y_val = np.load(cfg.y_val_path)\n",
    "x_val = np.load(cfg.x_val_path)\n",
    "x_test = np.load(cfg.x_test_path)\n"
   ]
  },
  {
   "cell_type": "code",
   "execution_count": 31,
   "metadata": {},
   "outputs": [
    {
     "data": {
      "text/html": [
       "<pre style=\"white-space:pre;overflow-x:auto;line-height:normal;font-family:Menlo,'DejaVu Sans Mono',consolas,'Courier New',monospace\"><span style=\"font-weight: bold\">Model: \"sequential_1\"</span>\n",
       "</pre>\n"
      ],
      "text/plain": [
       "\u001b[1mModel: \"sequential_1\"\u001b[0m\n"
      ]
     },
     "metadata": {},
     "output_type": "display_data"
    },
    {
     "data": {
      "text/html": [
       "<pre style=\"white-space:pre;overflow-x:auto;line-height:normal;font-family:Menlo,'DejaVu Sans Mono',consolas,'Courier New',monospace\">┏━━━━━━━━━━━━━━━━━━━━━━━━━━━━━━━━━┳━━━━━━━━━━━━━━━━━━━━━━━━┳━━━━━━━━━━━━━━━┓\n",
       "┃<span style=\"font-weight: bold\"> Layer (type)                    </span>┃<span style=\"font-weight: bold\"> Output Shape           </span>┃<span style=\"font-weight: bold\">       Param # </span>┃\n",
       "┡━━━━━━━━━━━━━━━━━━━━━━━━━━━━━━━━━╇━━━━━━━━━━━━━━━━━━━━━━━━╇━━━━━━━━━━━━━━━┩\n",
       "│ conv2d (<span style=\"color: #0087ff; text-decoration-color: #0087ff\">Conv2D</span>)                 │ (<span style=\"color: #00d7ff; text-decoration-color: #00d7ff\">None</span>, <span style=\"color: #00af00; text-decoration-color: #00af00\">26</span>, <span style=\"color: #00af00; text-decoration-color: #00af00\">26</span>, <span style=\"color: #00af00; text-decoration-color: #00af00\">128</span>)    │         <span style=\"color: #00af00; text-decoration-color: #00af00\">1,280</span> │\n",
       "├─────────────────────────────────┼────────────────────────┼───────────────┤\n",
       "│ conv2d_1 (<span style=\"color: #0087ff; text-decoration-color: #0087ff\">Conv2D</span>)               │ (<span style=\"color: #00d7ff; text-decoration-color: #00d7ff\">None</span>, <span style=\"color: #00af00; text-decoration-color: #00af00\">24</span>, <span style=\"color: #00af00; text-decoration-color: #00af00\">24</span>, <span style=\"color: #00af00; text-decoration-color: #00af00\">128</span>)    │       <span style=\"color: #00af00; text-decoration-color: #00af00\">147,584</span> │\n",
       "├─────────────────────────────────┼────────────────────────┼───────────────┤\n",
       "│ max_pooling2d (<span style=\"color: #0087ff; text-decoration-color: #0087ff\">MaxPooling2D</span>)    │ (<span style=\"color: #00d7ff; text-decoration-color: #00d7ff\">None</span>, <span style=\"color: #00af00; text-decoration-color: #00af00\">12</span>, <span style=\"color: #00af00; text-decoration-color: #00af00\">12</span>, <span style=\"color: #00af00; text-decoration-color: #00af00\">128</span>)    │             <span style=\"color: #00af00; text-decoration-color: #00af00\">0</span> │\n",
       "├─────────────────────────────────┼────────────────────────┼───────────────┤\n",
       "│ conv2d_2 (<span style=\"color: #0087ff; text-decoration-color: #0087ff\">Conv2D</span>)               │ (<span style=\"color: #00d7ff; text-decoration-color: #00d7ff\">None</span>, <span style=\"color: #00af00; text-decoration-color: #00af00\">10</span>, <span style=\"color: #00af00; text-decoration-color: #00af00\">10</span>, <span style=\"color: #00af00; text-decoration-color: #00af00\">256</span>)    │       <span style=\"color: #00af00; text-decoration-color: #00af00\">295,168</span> │\n",
       "├─────────────────────────────────┼────────────────────────┼───────────────┤\n",
       "│ conv2d_3 (<span style=\"color: #0087ff; text-decoration-color: #0087ff\">Conv2D</span>)               │ (<span style=\"color: #00d7ff; text-decoration-color: #00d7ff\">None</span>, <span style=\"color: #00af00; text-decoration-color: #00af00\">8</span>, <span style=\"color: #00af00; text-decoration-color: #00af00\">8</span>, <span style=\"color: #00af00; text-decoration-color: #00af00\">256</span>)      │       <span style=\"color: #00af00; text-decoration-color: #00af00\">590,080</span> │\n",
       "├─────────────────────────────────┼────────────────────────┼───────────────┤\n",
       "│ global_average_pooling2d        │ (<span style=\"color: #00d7ff; text-decoration-color: #00d7ff\">None</span>, <span style=\"color: #00af00; text-decoration-color: #00af00\">256</span>)            │             <span style=\"color: #00af00; text-decoration-color: #00af00\">0</span> │\n",
       "│ (<span style=\"color: #0087ff; text-decoration-color: #0087ff\">GlobalAveragePooling2D</span>)        │                        │               │\n",
       "├─────────────────────────────────┼────────────────────────┼───────────────┤\n",
       "│ dropout (<span style=\"color: #0087ff; text-decoration-color: #0087ff\">Dropout</span>)               │ (<span style=\"color: #00d7ff; text-decoration-color: #00d7ff\">None</span>, <span style=\"color: #00af00; text-decoration-color: #00af00\">256</span>)            │             <span style=\"color: #00af00; text-decoration-color: #00af00\">0</span> │\n",
       "├─────────────────────────────────┼────────────────────────┼───────────────┤\n",
       "│ dense (<span style=\"color: #0087ff; text-decoration-color: #0087ff\">Dense</span>)                   │ (<span style=\"color: #00d7ff; text-decoration-color: #00d7ff\">None</span>, <span style=\"color: #00af00; text-decoration-color: #00af00\">10</span>)             │         <span style=\"color: #00af00; text-decoration-color: #00af00\">2,570</span> │\n",
       "└─────────────────────────────────┴────────────────────────┴───────────────┘\n",
       "</pre>\n"
      ],
      "text/plain": [
       "┏━━━━━━━━━━━━━━━━━━━━━━━━━━━━━━━━━┳━━━━━━━━━━━━━━━━━━━━━━━━┳━━━━━━━━━━━━━━━┓\n",
       "┃\u001b[1m \u001b[0m\u001b[1mLayer (type)                   \u001b[0m\u001b[1m \u001b[0m┃\u001b[1m \u001b[0m\u001b[1mOutput Shape          \u001b[0m\u001b[1m \u001b[0m┃\u001b[1m \u001b[0m\u001b[1m      Param #\u001b[0m\u001b[1m \u001b[0m┃\n",
       "┡━━━━━━━━━━━━━━━━━━━━━━━━━━━━━━━━━╇━━━━━━━━━━━━━━━━━━━━━━━━╇━━━━━━━━━━━━━━━┩\n",
       "│ conv2d (\u001b[38;5;33mConv2D\u001b[0m)                 │ (\u001b[38;5;45mNone\u001b[0m, \u001b[38;5;34m26\u001b[0m, \u001b[38;5;34m26\u001b[0m, \u001b[38;5;34m128\u001b[0m)    │         \u001b[38;5;34m1,280\u001b[0m │\n",
       "├─────────────────────────────────┼────────────────────────┼───────────────┤\n",
       "│ conv2d_1 (\u001b[38;5;33mConv2D\u001b[0m)               │ (\u001b[38;5;45mNone\u001b[0m, \u001b[38;5;34m24\u001b[0m, \u001b[38;5;34m24\u001b[0m, \u001b[38;5;34m128\u001b[0m)    │       \u001b[38;5;34m147,584\u001b[0m │\n",
       "├─────────────────────────────────┼────────────────────────┼───────────────┤\n",
       "│ max_pooling2d (\u001b[38;5;33mMaxPooling2D\u001b[0m)    │ (\u001b[38;5;45mNone\u001b[0m, \u001b[38;5;34m12\u001b[0m, \u001b[38;5;34m12\u001b[0m, \u001b[38;5;34m128\u001b[0m)    │             \u001b[38;5;34m0\u001b[0m │\n",
       "├─────────────────────────────────┼────────────────────────┼───────────────┤\n",
       "│ conv2d_2 (\u001b[38;5;33mConv2D\u001b[0m)               │ (\u001b[38;5;45mNone\u001b[0m, \u001b[38;5;34m10\u001b[0m, \u001b[38;5;34m10\u001b[0m, \u001b[38;5;34m256\u001b[0m)    │       \u001b[38;5;34m295,168\u001b[0m │\n",
       "├─────────────────────────────────┼────────────────────────┼───────────────┤\n",
       "│ conv2d_3 (\u001b[38;5;33mConv2D\u001b[0m)               │ (\u001b[38;5;45mNone\u001b[0m, \u001b[38;5;34m8\u001b[0m, \u001b[38;5;34m8\u001b[0m, \u001b[38;5;34m256\u001b[0m)      │       \u001b[38;5;34m590,080\u001b[0m │\n",
       "├─────────────────────────────────┼────────────────────────┼───────────────┤\n",
       "│ global_average_pooling2d        │ (\u001b[38;5;45mNone\u001b[0m, \u001b[38;5;34m256\u001b[0m)            │             \u001b[38;5;34m0\u001b[0m │\n",
       "│ (\u001b[38;5;33mGlobalAveragePooling2D\u001b[0m)        │                        │               │\n",
       "├─────────────────────────────────┼────────────────────────┼───────────────┤\n",
       "│ dropout (\u001b[38;5;33mDropout\u001b[0m)               │ (\u001b[38;5;45mNone\u001b[0m, \u001b[38;5;34m256\u001b[0m)            │             \u001b[38;5;34m0\u001b[0m │\n",
       "├─────────────────────────────────┼────────────────────────┼───────────────┤\n",
       "│ dense (\u001b[38;5;33mDense\u001b[0m)                   │ (\u001b[38;5;45mNone\u001b[0m, \u001b[38;5;34m10\u001b[0m)             │         \u001b[38;5;34m2,570\u001b[0m │\n",
       "└─────────────────────────────────┴────────────────────────┴───────────────┘\n"
      ]
     },
     "metadata": {},
     "output_type": "display_data"
    },
    {
     "data": {
      "text/html": [
       "<pre style=\"white-space:pre;overflow-x:auto;line-height:normal;font-family:Menlo,'DejaVu Sans Mono',consolas,'Courier New',monospace\"><span style=\"font-weight: bold\"> Total params: </span><span style=\"color: #00af00; text-decoration-color: #00af00\">3,110,048</span> (11.86 MB)\n",
       "</pre>\n"
      ],
      "text/plain": [
       "\u001b[1m Total params: \u001b[0m\u001b[38;5;34m3,110,048\u001b[0m (11.86 MB)\n"
      ]
     },
     "metadata": {},
     "output_type": "display_data"
    },
    {
     "data": {
      "text/html": [
       "<pre style=\"white-space:pre;overflow-x:auto;line-height:normal;font-family:Menlo,'DejaVu Sans Mono',consolas,'Courier New',monospace\"><span style=\"font-weight: bold\"> Trainable params: </span><span style=\"color: #00af00; text-decoration-color: #00af00\">1,036,682</span> (3.95 MB)\n",
       "</pre>\n"
      ],
      "text/plain": [
       "\u001b[1m Trainable params: \u001b[0m\u001b[38;5;34m1,036,682\u001b[0m (3.95 MB)\n"
      ]
     },
     "metadata": {},
     "output_type": "display_data"
    },
    {
     "data": {
      "text/html": [
       "<pre style=\"white-space:pre;overflow-x:auto;line-height:normal;font-family:Menlo,'DejaVu Sans Mono',consolas,'Courier New',monospace\"><span style=\"font-weight: bold\"> Non-trainable params: </span><span style=\"color: #00af00; text-decoration-color: #00af00\">0</span> (0.00 B)\n",
       "</pre>\n"
      ],
      "text/plain": [
       "\u001b[1m Non-trainable params: \u001b[0m\u001b[38;5;34m0\u001b[0m (0.00 B)\n"
      ]
     },
     "metadata": {},
     "output_type": "display_data"
    },
    {
     "data": {
      "text/html": [
       "<pre style=\"white-space:pre;overflow-x:auto;line-height:normal;font-family:Menlo,'DejaVu Sans Mono',consolas,'Courier New',monospace\"><span style=\"font-weight: bold\"> Optimizer params: </span><span style=\"color: #00af00; text-decoration-color: #00af00\">2,073,366</span> (7.91 MB)\n",
       "</pre>\n"
      ],
      "text/plain": [
       "\u001b[1m Optimizer params: \u001b[0m\u001b[38;5;34m2,073,366\u001b[0m (7.91 MB)\n"
      ]
     },
     "metadata": {},
     "output_type": "display_data"
    },
    {
     "name": "stdout",
     "output_type": "stream",
     "text": [
      "\u001b[1m132/132\u001b[0m \u001b[32m━━━━━━━━━━━━━━━━━━━━\u001b[0m\u001b[37m\u001b[0m \u001b[1m0s\u001b[0m 2ms/step - acc: 0.9934 - loss: 4.8838      \n",
      "Validation loss: 4.83311128616333 Validation accuracy: 0.993571400642395\n",
      "\u001b[1m875/875\u001b[0m \u001b[32m━━━━━━━━━━━━━━━━━━━━\u001b[0m\u001b[37m\u001b[0m \u001b[1m0s\u001b[0m 400us/step\n"
     ]
    }
   ],
   "source": [
    "import pandas as pd\n",
    "# Assuming 'predictions' is an array containing your model's predictions\n",
    "# load model\n",
    "best_model = keras.models.load_model(\"./best_models/wise-sweep-194.keras\")\n",
    "if best_model is not None:\n",
    "    best_model.summary()\n",
    "    score = best_model.evaluate(x_val, y_val)\n",
    "    print(\"Validation loss:\", score[0], \"Validation accuracy:\", score[1])\n",
    "    predictions = best_model.predict(x_test)\n",
    "    class_predictions = np.argmax(predictions, axis=1)\n",
    "\n"
   ]
  },
  {
   "cell_type": "code",
   "execution_count": 32,
   "metadata": {},
   "outputs": [],
   "source": [
    "if predictions is not None:\n",
    "    \n",
    "    # Create a DataFrame with the prediction results\n",
    "    # 'ImageId' is a common column name in MNIST-like competitions\n",
    "    submission = pd.DataFrame({\n",
    "        \"ImageId\": list(range(1, len(class_predictions) + 1)),\n",
    "        \"Label\": class_predictions\n",
    "    })\n",
    "\n",
    "    # Save the DataFrame to a CSV file\n",
    "    submission.to_csv('my_submission.csv', index=False)"
   ]
  },
  {
   "cell_type": "code",
   "execution_count": 33,
   "metadata": {},
   "outputs": [
    {
     "name": "stdout",
     "output_type": "stream",
     "text": [
      "Warning: Your Kaggle API key is readable by other users on this system! To fix this, you can run 'chmod 600 /root/.kaggle/kaggle.json'\n",
      "100%|█████████████████████████████████████████| 208k/208k [00:00<00:00, 255kB/s]\n",
      "Successfully submitted to Digit Recognizer"
     ]
    }
   ],
   "source": [
    "!kaggle competitions submit -c digit-recognizer -f my_submission.csv -m \"Best model submission with data augmentation\"\n"
   ]
  },
  {
   "cell_type": "code",
   "execution_count": 35,
   "metadata": {},
   "outputs": [
    {
     "name": "stdout",
     "output_type": "stream",
     "text": [
      "Warning: Your Kaggle API key is readable by other users on this system! To fix this, you can run 'chmod 600 /root/.kaggle/kaggle.json'\n",
      "fileName           date                 description                                   status    publicScore  privateScore  \n",
      "-----------------  -------------------  --------------------------------------------  --------  -----------  ------------  \n",
      "my_submission.csv  2024-05-19 08:36:21  Best model submission with data augmentation  complete  0.99257                    \n",
      "my_submission.csv  2024-05-19 08:33:52  Best model submission with data augmentation  complete  0.9916                     \n",
      "my_submission.csv  2024-05-19 08:32:54  Best model submission with data augmentation  complete  0.9926                     \n",
      "my_submission.csv  2024-05-06 16:32:30  Best model submission                         complete  0.99403                    \n",
      "my_submission.csv  2024-05-04 08:02:41  First submission                              complete  0.9926                     \n",
      "my_submission.csv  2024-05-04 08:02:09  First submission                              complete  0.9926                     \n"
     ]
    }
   ],
   "source": [
    "!kaggle competitions submissions digit-recognizer"
   ]
  }
 ],
 "metadata": {
  "kernelspec": {
   "display_name": "Python 3",
   "language": "python",
   "name": "python3"
  },
  "language_info": {
   "codemirror_mode": {
    "name": "ipython",
    "version": 3
   },
   "file_extension": ".py",
   "mimetype": "text/x-python",
   "name": "python",
   "nbconvert_exporter": "python",
   "pygments_lexer": "ipython3",
   "version": "3.10.12"
  }
 },
 "nbformat": 4,
 "nbformat_minor": 2
}
