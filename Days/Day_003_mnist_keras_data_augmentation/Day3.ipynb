{
 "cells": [
  {
   "cell_type": "markdown",
   "metadata": {},
   "source": [
    "# Day 3: Data augementation "
   ]
  },
  {
   "cell_type": "markdown",
   "metadata": {},
   "source": [
    "Purpose of this notebook is to train a model with data augmentation. I will be using best parameters from previous notebook and will be using data augmentation to improve the model.\n",
    "* make sweep with different data augementation types\n",
    "* make seperate training file but do preprocessing, visualization and post processing in this file\n",
    "* make a seperate file for model training\n",
    "* make utility library for common functions and install with pip "
   ]
  },
  {
   "cell_type": "markdown",
   "metadata": {},
   "source": [
    "Imports:"
   ]
  },
  {
   "cell_type": "code",
   "execution_count": 1,
   "metadata": {},
   "outputs": [
    {
     "name": "stderr",
     "output_type": "stream",
     "text": [
      "2024-05-18 11:55:33.957230: I tensorflow/core/util/port.cc:113] oneDNN custom operations are on. You may see slightly different numerical results due to floating-point round-off errors from different computation orders. To turn them off, set the environment variable `TF_ENABLE_ONEDNN_OPTS=0`.\n",
      "2024-05-18 11:55:33.980191: I tensorflow/core/platform/cpu_feature_guard.cc:210] This TensorFlow binary is optimized to use available CPU instructions in performance-critical operations.\n",
      "To enable the following instructions: AVX2 AVX_VNNI FMA, in other operations, rebuild TensorFlow with the appropriate compiler flags.\n",
      "2024-05-18 11:55:34.320742: W tensorflow/compiler/tf2tensorrt/utils/py_utils.cc:38] TF-TRT Warning: Could not find TensorRT\n"
     ]
    }
   ],
   "source": [
    "import MyUtils.Util.Misc as util\n"
   ]
  },
  {
   "cell_type": "code",
   "execution_count": 2,
   "metadata": {},
   "outputs": [
    {
     "name": "stdout",
     "output_type": "stream",
     "text": [
      "Warning: Your Kaggle API key is readable by other users on this system! To fix this, you can run 'chmod 600 /root/.kaggle/kaggle.json'\n"
     ]
    }
   ],
   "source": [
    "import keras\n",
    "import numpy as np\n",
    "import tensorflow as tf\n",
    "import os\n",
    "import wandb\n",
    "import matplotlib.pyplot as plt\n",
    "import IPython.display as display\n",
    "import gc\n",
    "import pandas as pd\n",
    "import kaggle\n",
    "import torch\n",
    "import zipfile\n",
    "from sklearn.model_selection import train_test_split\n",
    "from omegaconf import OmegaConf\n",
    "from keras import layers\n",
    "import time"
   ]
  },
  {
   "cell_type": "markdown",
   "metadata": {},
   "source": [
    "Check GPU:"
   ]
  },
  {
   "cell_type": "code",
   "execution_count": 3,
   "metadata": {},
   "outputs": [
    {
     "name": "stdout",
     "output_type": "stream",
     "text": [
      "cuda:0\n"
     ]
    }
   ],
   "source": [
    "# throw error if no gpu available\n",
    "assert torch.cuda.is_available(), \"No GPU available\"\n",
    "device = torch.device(\"cuda:0\" if torch.cuda.is_available() else \"cpu\")\n",
    "print(device)"
   ]
  },
  {
   "cell_type": "markdown",
   "metadata": {},
   "source": [
    "## Cofiguration"
   ]
  },
  {
   "cell_type": "code",
   "execution_count": 4,
   "metadata": {},
   "outputs": [
    {
     "name": "stdout",
     "output_type": "stream",
     "text": [
      "cfg: \n",
      " {'project_name': 'Day3', 'username': 'frizzerdk', 'is_sweep': False, 'preprocessed_data_path': './data/preprocessed', 'x_train_path': '${preprocessed_data_path}/x_train.npy', 'y_train_path': '${preprocessed_data_path}/y_train.npy', 'x_test_path': '${preprocessed_data_path}/x_test.npy', 'x_val_path': '${preprocessed_data_path}/x_val.npy', 'y_val_path': '${preprocessed_data_path}/y_val.npy', 'checkpoint_path': './checkpoints', 'best_model_path': '${checkpoint_path}/best_model.keras', 'num_classes': 10, 'input_shape': [28, 28, 1], 'activation': 'relu', 'epochs': 100, 'param_scale': 2.0, 'dropout_rate': 0.1, 'learning_rate': 0.001, 'batch_size': 64, 'patience': 20, 'data_augmentation': {'layers': {'RandomTranslation': {'kwargs': {'height_factor': 0.0, 'width_factor': 0.0, 'fill_mode': 'constant'}}, 'RandomRotation': {'kwargs': {'factor': 0.0, 'fill_mode': 'constant'}}, 'RandomZoom': {'kwargs': {'height_factor': 0.0, 'width_factor': 0.0, 'fill_mode': 'constant'}}, 'RandomContrast': {'kwargs': {'factor': 0.0}}, 'RandomBrightness': {'kwargs': {'factor': 0.0, 'value_range': [0.0, 1.0]}}}}}\n"
     ]
    }
   ],
   "source": [
    "cfg = util.load_and_override_config(\".\", \"config\")"
   ]
  },
  {
   "cell_type": "markdown",
   "metadata": {},
   "source": [
    "## Get data ready"
   ]
  },
  {
   "cell_type": "markdown",
   "metadata": {},
   "source": [
    "dowload data and unzip it"
   ]
  },
  {
   "cell_type": "code",
   "execution_count": 5,
   "metadata": {},
   "outputs": [
    {
     "name": "stdout",
     "output_type": "stream",
     "text": [
      "Warning: Your Kaggle API key is readable by other users on this system! To fix this, you can run 'chmod 600 /root/.kaggle/kaggle.json'\n",
      "digit-recognizer.zip: Skipping, found more recently modified local copy (use --force to force download)\n"
     ]
    }
   ],
   "source": [
    "# Define the directory where you want to download the data\n",
    "data_dir = \"MyDataset/mnist/raw\"  # './' represents the current directory\n",
    "\n",
    "# Check if the directory exists\n",
    "if not os.path.exists(data_dir):\n",
    "    # If not, create the directory\n",
    "    os.makedirs(data_dir)\n",
    "\n",
    "# Move to that directory\n",
    "os.chdir(data_dir)\n",
    "competition_name = \"digit-recognizer\"\n",
    "# Download the data\n",
    "os.system(\"kaggle competitions download -c \" + competition_name)\n",
    "\n",
    "# Unzip the data\n",
    "with zipfile.ZipFile(\"digit-recognizer.zip\",\"r\") as zip_ref:\n",
    "    zip_ref.extractall(\".\")\n",
    "\n",
    "os.chdir(\"../../..\")"
   ]
  },
  {
   "cell_type": "markdown",
   "metadata": {},
   "source": [
    "Load data"
   ]
  },
  {
   "cell_type": "code",
   "execution_count": 6,
   "metadata": {},
   "outputs": [],
   "source": [
    "# Load the dataset\n",
    "train_df = pd.read_csv('MyDataset/mnist/raw/train.csv')\n",
    "test_df = pd.read_csv('MyDataset/mnist/raw/test.csv')\n",
    "\n",
    "# Split features and labels\n",
    "y_train = train_df[\"label\"]\n",
    "x_train = train_df.drop(labels = [\"label\"], axis = 1)\n",
    "\n",
    "# Convert to numpy arrays\n",
    "x_train = x_train.values\n",
    "y_train = y_train.values\n",
    "\n",
    "# Test data\n",
    "x_test = test_df.values"
   ]
  },
  {
   "cell_type": "markdown",
   "metadata": {},
   "source": [
    "Inspect raw data"
   ]
  },
  {
   "cell_type": "code",
   "execution_count": 7,
   "metadata": {},
   "outputs": [
    {
     "data": {
      "text/html": [
       "<div>\n",
       "<style scoped>\n",
       "    .dataframe tbody tr th:only-of-type {\n",
       "        vertical-align: middle;\n",
       "    }\n",
       "\n",
       "    .dataframe tbody tr th {\n",
       "        vertical-align: top;\n",
       "    }\n",
       "\n",
       "    .dataframe thead th {\n",
       "        text-align: right;\n",
       "    }\n",
       "</style>\n",
       "<table border=\"1\" class=\"dataframe\">\n",
       "  <thead>\n",
       "    <tr style=\"text-align: right;\">\n",
       "      <th></th>\n",
       "      <th>label</th>\n",
       "      <th>pixel0</th>\n",
       "      <th>pixel1</th>\n",
       "      <th>pixel2</th>\n",
       "      <th>pixel3</th>\n",
       "      <th>pixel4</th>\n",
       "      <th>pixel5</th>\n",
       "      <th>pixel6</th>\n",
       "      <th>pixel7</th>\n",
       "      <th>pixel8</th>\n",
       "      <th>...</th>\n",
       "      <th>pixel774</th>\n",
       "      <th>pixel775</th>\n",
       "      <th>pixel776</th>\n",
       "      <th>pixel777</th>\n",
       "      <th>pixel778</th>\n",
       "      <th>pixel779</th>\n",
       "      <th>pixel780</th>\n",
       "      <th>pixel781</th>\n",
       "      <th>pixel782</th>\n",
       "      <th>pixel783</th>\n",
       "    </tr>\n",
       "  </thead>\n",
       "  <tbody>\n",
       "    <tr>\n",
       "      <th>0</th>\n",
       "      <td>1</td>\n",
       "      <td>0</td>\n",
       "      <td>0</td>\n",
       "      <td>0</td>\n",
       "      <td>0</td>\n",
       "      <td>0</td>\n",
       "      <td>0</td>\n",
       "      <td>0</td>\n",
       "      <td>0</td>\n",
       "      <td>0</td>\n",
       "      <td>...</td>\n",
       "      <td>0</td>\n",
       "      <td>0</td>\n",
       "      <td>0</td>\n",
       "      <td>0</td>\n",
       "      <td>0</td>\n",
       "      <td>0</td>\n",
       "      <td>0</td>\n",
       "      <td>0</td>\n",
       "      <td>0</td>\n",
       "      <td>0</td>\n",
       "    </tr>\n",
       "    <tr>\n",
       "      <th>1</th>\n",
       "      <td>0</td>\n",
       "      <td>0</td>\n",
       "      <td>0</td>\n",
       "      <td>0</td>\n",
       "      <td>0</td>\n",
       "      <td>0</td>\n",
       "      <td>0</td>\n",
       "      <td>0</td>\n",
       "      <td>0</td>\n",
       "      <td>0</td>\n",
       "      <td>...</td>\n",
       "      <td>0</td>\n",
       "      <td>0</td>\n",
       "      <td>0</td>\n",
       "      <td>0</td>\n",
       "      <td>0</td>\n",
       "      <td>0</td>\n",
       "      <td>0</td>\n",
       "      <td>0</td>\n",
       "      <td>0</td>\n",
       "      <td>0</td>\n",
       "    </tr>\n",
       "    <tr>\n",
       "      <th>2</th>\n",
       "      <td>1</td>\n",
       "      <td>0</td>\n",
       "      <td>0</td>\n",
       "      <td>0</td>\n",
       "      <td>0</td>\n",
       "      <td>0</td>\n",
       "      <td>0</td>\n",
       "      <td>0</td>\n",
       "      <td>0</td>\n",
       "      <td>0</td>\n",
       "      <td>...</td>\n",
       "      <td>0</td>\n",
       "      <td>0</td>\n",
       "      <td>0</td>\n",
       "      <td>0</td>\n",
       "      <td>0</td>\n",
       "      <td>0</td>\n",
       "      <td>0</td>\n",
       "      <td>0</td>\n",
       "      <td>0</td>\n",
       "      <td>0</td>\n",
       "    </tr>\n",
       "    <tr>\n",
       "      <th>3</th>\n",
       "      <td>4</td>\n",
       "      <td>0</td>\n",
       "      <td>0</td>\n",
       "      <td>0</td>\n",
       "      <td>0</td>\n",
       "      <td>0</td>\n",
       "      <td>0</td>\n",
       "      <td>0</td>\n",
       "      <td>0</td>\n",
       "      <td>0</td>\n",
       "      <td>...</td>\n",
       "      <td>0</td>\n",
       "      <td>0</td>\n",
       "      <td>0</td>\n",
       "      <td>0</td>\n",
       "      <td>0</td>\n",
       "      <td>0</td>\n",
       "      <td>0</td>\n",
       "      <td>0</td>\n",
       "      <td>0</td>\n",
       "      <td>0</td>\n",
       "    </tr>\n",
       "    <tr>\n",
       "      <th>4</th>\n",
       "      <td>0</td>\n",
       "      <td>0</td>\n",
       "      <td>0</td>\n",
       "      <td>0</td>\n",
       "      <td>0</td>\n",
       "      <td>0</td>\n",
       "      <td>0</td>\n",
       "      <td>0</td>\n",
       "      <td>0</td>\n",
       "      <td>0</td>\n",
       "      <td>...</td>\n",
       "      <td>0</td>\n",
       "      <td>0</td>\n",
       "      <td>0</td>\n",
       "      <td>0</td>\n",
       "      <td>0</td>\n",
       "      <td>0</td>\n",
       "      <td>0</td>\n",
       "      <td>0</td>\n",
       "      <td>0</td>\n",
       "      <td>0</td>\n",
       "    </tr>\n",
       "  </tbody>\n",
       "</table>\n",
       "<p>5 rows × 785 columns</p>\n",
       "</div>"
      ],
      "text/plain": [
       "   label  pixel0  pixel1  pixel2  pixel3  pixel4  pixel5  pixel6  pixel7  \\\n",
       "0      1       0       0       0       0       0       0       0       0   \n",
       "1      0       0       0       0       0       0       0       0       0   \n",
       "2      1       0       0       0       0       0       0       0       0   \n",
       "3      4       0       0       0       0       0       0       0       0   \n",
       "4      0       0       0       0       0       0       0       0       0   \n",
       "\n",
       "   pixel8  ...  pixel774  pixel775  pixel776  pixel777  pixel778  pixel779  \\\n",
       "0       0  ...         0         0         0         0         0         0   \n",
       "1       0  ...         0         0         0         0         0         0   \n",
       "2       0  ...         0         0         0         0         0         0   \n",
       "3       0  ...         0         0         0         0         0         0   \n",
       "4       0  ...         0         0         0         0         0         0   \n",
       "\n",
       "   pixel780  pixel781  pixel782  pixel783  \n",
       "0         0         0         0         0  \n",
       "1         0         0         0         0  \n",
       "2         0         0         0         0  \n",
       "3         0         0         0         0  \n",
       "4         0         0         0         0  \n",
       "\n",
       "[5 rows x 785 columns]"
      ]
     },
     "execution_count": 7,
     "metadata": {},
     "output_type": "execute_result"
    }
   ],
   "source": [
    "train_df.head()\n",
    "\n",
    "\n"
   ]
  },
  {
   "cell_type": "markdown",
   "metadata": {},
   "source": [
    "Prepare data"
   ]
  },
  {
   "cell_type": "code",
   "execution_count": 8,
   "metadata": {},
   "outputs": [
    {
     "name": "stdout",
     "output_type": "stream",
     "text": [
      "x_train shape: (37800, 28, 28, 1)\n",
      "y_train shape: (37800,)\n",
      "37800 train samples\n",
      "28000 test samples\n"
     ]
    }
   ],
   "source": [
    "# split the data into training and validation sets\n",
    "x_train, x_val, y_train, y_val = train_test_split(x_train, y_train, test_size = 0.1, random_state=2)\n",
    "\n",
    "# Scale images to the [0, 1] range\n",
    "x_train = x_train.astype(\"float32\") / 255\n",
    "x_test = x_test.astype(\"float32\") / 255\n",
    "\n",
    "# Make sure images have shape (28, 28, 1)\n",
    "x_train = x_train.reshape(-1, 28, 28, 1)\n",
    "x_test = x_test.reshape(-1, 28, 28, 1)\n",
    "x_val = x_val.reshape(-1, 28, 28, 1)\n",
    "print(\"x_train shape:\", x_train.shape)\n",
    "print(\"y_train shape:\", y_train.shape)\n",
    "print(x_train.shape[0], \"train samples\")\n",
    "print(x_test.shape[0], \"test samples\")"
   ]
  },
  {
   "cell_type": "markdown",
   "metadata": {},
   "source": [
    "Show preprocessed data"
   ]
  },
  {
   "cell_type": "code",
   "execution_count": 9,
   "metadata": {},
   "outputs": [
    {
     "data": {
      "image/png": "[encoded data removed]",
      "text/plain": [
       "<Figure size 2000x1000 with 50 Axes>"
      ]
     },
     "metadata": {},
     "output_type": "display_data"
    }
   ],
   "source": [
    "# Show 5 samples from each class\n",
    "classes = np.unique(y_train)\n",
    "n_classes = len(classes)\n",
    "samples_per_class = 5\n",
    "\n",
    "plt.figure(figsize=(20, 10))\n",
    "for y, cls in enumerate(classes):\n",
    "    idxs = np.flatnonzero(y_train == y)\n",
    "    idxs = np.random.choice(idxs, samples_per_class, replace=False)\n",
    "    for i, idx in enumerate(idxs):\n",
    "        plt_idx = i * n_classes + y + 1\n",
    "        plt.subplot(samples_per_class, n_classes, plt_idx)\n",
    "        plt.imshow(x_train[idx].reshape(28, 28), cmap='gray')\n",
    "        plt.axis(\"off\")\n",
    "        if i == 0:\n",
    "            plt.title(cls)\n",
    "\n"
   ]
  },
  {
   "cell_type": "markdown",
   "metadata": {},
   "source": [
    "Show augmented examples"
   ]
  },
  {
   "cell_type": "code",
   "execution_count": 10,
   "metadata": {},
   "outputs": [
    {
     "name": "stdout",
     "output_type": "stream",
     "text": [
      "cfg: \n",
      " {'project_name': 'Day3', 'username': 'frizzerdk', 'is_sweep': False, 'preprocessed_data_path': './data/preprocessed', 'x_train_path': '${preprocessed_data_path}/x_train.npy', 'y_train_path': '${preprocessed_data_path}/y_train.npy', 'x_test_path': '${preprocessed_data_path}/x_test.npy', 'x_val_path': '${preprocessed_data_path}/x_val.npy', 'y_val_path': '${preprocessed_data_path}/y_val.npy', 'checkpoint_path': './checkpoints', 'best_model_path': '${checkpoint_path}/best_model.keras', 'num_classes': 10, 'input_shape': [28, 28, 1], 'activation': 'relu', 'epochs': 100, 'param_scale': 2.0, 'dropout_rate': 0.1, 'learning_rate': 0.001, 'batch_size': 64, 'patience': 20, 'data_augmentation': {'layers': {'RandomTranslation': {'kwargs': {'height_factor': 0.0, 'width_factor': 0.0, 'fill_mode': 'constant'}}, 'RandomRotation': {'kwargs': {'factor': 0.0, 'fill_mode': 'constant'}}, 'RandomZoom': {'kwargs': {'height_factor': 0.0, 'width_factor': 0.0, 'fill_mode': 'constant'}}, 'RandomContrast': {'kwargs': {'factor': 0.0}}, 'RandomBrightness': {'kwargs': {'factor': 0.0, 'value_range': [0.0, 1.0]}}}}}\n"
     ]
    },
    {
     "name": "stderr",
     "output_type": "stream",
     "text": [
      "2024-05-18 11:55:39.096571: I external/local_xla/xla/stream_executor/cuda/cuda_executor.cc:998] successful NUMA node read from SysFS had negative value (-1), but there must be at least one NUMA node, so returning NUMA node zero. See more at https://github.com/torvalds/linux/blob/v6.0/Documentation/ABI/testing/sysfs-bus-pci#L344-L355\n",
      "2024-05-18 11:55:39.097265: I external/local_xla/xla/stream_executor/cuda/cuda_executor.cc:998] successful NUMA node read from SysFS had negative value (-1), but there must be at least one NUMA node, so returning NUMA node zero. See more at https://github.com/torvalds/linux/blob/v6.0/Documentation/ABI/testing/sysfs-bus-pci#L344-L355\n",
      "2024-05-18 11:55:39.097332: I external/local_xla/xla/stream_executor/cuda/cuda_executor.cc:998] successful NUMA node read from SysFS had negative value (-1), but there must be at least one NUMA node, so returning NUMA node zero. See more at https://github.com/torvalds/linux/blob/v6.0/Documentation/ABI/testing/sysfs-bus-pci#L344-L355\n",
      "2024-05-18 11:55:39.098045: I external/local_xla/xla/stream_executor/cuda/cuda_executor.cc:998] successful NUMA node read from SysFS had negative value (-1), but there must be at least one NUMA node, so returning NUMA node zero. See more at https://github.com/torvalds/linux/blob/v6.0/Documentation/ABI/testing/sysfs-bus-pci#L344-L355\n",
      "2024-05-18 11:55:39.098107: I external/local_xla/xla/stream_executor/cuda/cuda_executor.cc:998] successful NUMA node read from SysFS had negative value (-1), but there must be at least one NUMA node, so returning NUMA node zero. See more at https://github.com/torvalds/linux/blob/v6.0/Documentation/ABI/testing/sysfs-bus-pci#L344-L355\n",
      "2024-05-18 11:55:39.098149: I external/local_xla/xla/stream_executor/cuda/cuda_executor.cc:998] successful NUMA node read from SysFS had negative value (-1), but there must be at least one NUMA node, so returning NUMA node zero. See more at https://github.com/torvalds/linux/blob/v6.0/Documentation/ABI/testing/sysfs-bus-pci#L344-L355\n",
      "2024-05-18 11:55:39.151747: I external/local_xla/xla/stream_executor/cuda/cuda_executor.cc:998] successful NUMA node read from SysFS had negative value (-1), but there must be at least one NUMA node, so returning NUMA node zero. See more at https://github.com/torvalds/linux/blob/v6.0/Documentation/ABI/testing/sysfs-bus-pci#L344-L355\n",
      "2024-05-18 11:55:39.151836: I external/local_xla/xla/stream_executor/cuda/cuda_executor.cc:998] successful NUMA node read from SysFS had negative value (-1), but there must be at least one NUMA node, so returning NUMA node zero. See more at https://github.com/torvalds/linux/blob/v6.0/Documentation/ABI/testing/sysfs-bus-pci#L344-L355\n",
      "2024-05-18 11:55:39.151894: I external/local_xla/xla/stream_executor/cuda/cuda_executor.cc:998] successful NUMA node read from SysFS had negative value (-1), but there must be at least one NUMA node, so returning NUMA node zero. See more at https://github.com/torvalds/linux/blob/v6.0/Documentation/ABI/testing/sysfs-bus-pci#L344-L355\n",
      "2024-05-18 11:55:39.151940: I tensorflow/core/common_runtime/gpu/gpu_device.cc:1928] Created device /job:localhost/replica:0/task:0/device:GPU:0 with 21583 MB memory:  -> device: 0, name: NVIDIA GeForce RTX 4090, pci bus id: 0000:01:00.0, compute capability: 8.9\n"
     ]
    },
    {
     "data": {
      "image/png": "[encoded data removed]",
      "text/plain": [
       "<Figure size 2500x1000 with 110 Axes>"
      ]
     },
     "metadata": {},
     "output_type": "display_data"
    }
   ],
   "source": [
    "cfg = util.load_and_override_config(\".\", \"config\")\n",
    "data_augmentation = util.get_data_augmentation_layers(cfg.data_augmentation)\n",
    "\n",
    "import matplotlib.pyplot as plt\n",
    "import tensorflow as tf\n",
    "\n",
    "def plot_augmented_images_per_class(data_augmentation, x_train, y_train, num_classes=10):\n",
    "    plt.figure(figsize=(25, 10))\n",
    "    \n",
    "    for class_idx in range(num_classes):\n",
    "        # Get the first image of the current class\n",
    "        class_images = x_train[y_train == class_idx]\n",
    "        first_image = class_images[:1]\n",
    "        \n",
    "        # Plot the original image with no augmentation\n",
    "        ax = plt.subplot(num_classes, 11, class_idx * 11 + 1)\n",
    "        plt.imshow(first_image[0], cmap='gray')\n",
    "        plt.title(f\"Class {class_idx}\")\n",
    "        plt.axis(\"off\")\n",
    "        \n",
    "        # Plot 10 augmented images\n",
    "        for i in range(10):\n",
    "            augmented_image = data_augmentation(first_image)\n",
    "            ax = plt.subplot(num_classes, 11, class_idx * 11 + i + 2)\n",
    "            plt.imshow(augmented_image[0], cmap='gray')\n",
    "            plt.axis(\"off\")\n",
    "    \n",
    "    plt.show()\n",
    "\n",
    "# Assuming x_train and y_train are your training images and labels\n",
    "plot_augmented_images_per_class(data_augmentation, x_train, y_train)\n",
    "from numba import cuda\n",
    "\n",
    "cuda.select_device(0)\n",
    "cuda.close()"
   ]
  },
  {
   "cell_type": "markdown",
   "metadata": {},
   "source": [
    "Save preprocessed data for training"
   ]
  },
  {
   "cell_type": "code",
   "execution_count": 11,
   "metadata": {},
   "outputs": [],
   "source": [
    "# Make sure dir exists\n",
    "os.makedirs(cfg.preprocessed_data_path, exist_ok=True)\n",
    "# Save the data\n",
    "np.save(cfg.x_train_path, x_train,)\n",
    "np.save(cfg.y_train_path, y_train)\n",
    "np.save(cfg.x_val_path, x_val)\n",
    "np.save(cfg.y_val_path, y_val)\n",
    "np.save(cfg.x_test_path, x_test)\n"
   ]
  },
  {
   "cell_type": "code",
   "execution_count": 12,
   "metadata": {},
   "outputs": [
    {
     "name": "stdout",
     "output_type": "stream",
     "text": [
      "OmegaConf\t cfg\t classes\t cls\t competition_name\t cuda\t data_augmentation\t data_dir\t device\t \n",
      "display\t gc\t i\t idx\t idxs\t kaggle\t keras\t layers\t n_classes\t \n",
      "np\t os\t pd\t plot_augmented_images_per_class\t plt\t plt_idx\t samples_per_class\t test_df\t tf\t \n",
      "time\t torch\t train_df\t train_test_split\t util\t wandb\t x_test\t x_train\t x_val\t \n",
      "y\t y_train\t y_val\t zip_ref\t zipfile\t \n",
      "Variable                          Type          Data/Info\n",
      "---------------------------------------------------------\n",
      "OmegaConf                         type          <class 'omegaconf.omegaconf.OmegaConf'>\n",
      "cfg                               DictConfig    {'project_name': 'Day3', <...>e_range': [0.0, 1.0]}}}}}\n",
      "classes                           ndarray       10: 10 elems, type `int64`, 80 bytes\n",
      "cls                               int64         9\n",
      "competition_name                  str           digit-recognizer\n",
      "cuda                              module        <module 'numba.cuda' from<...>/numba/cuda/__init__.py'>\n",
      "data_augmentation                 Sequential    <Sequential name=sequential, built=True>\n",
      "data_dir                          str           MyDataset/mnist/raw\n",
      "device                            device        cuda:0\n",
      "display                           module        <module 'IPython.display'<...>ages/IPython/display.py'>\n",
      "gc                                module        <module 'gc' (built-in)>\n",
      "i                                 int           4\n",
      "idx                               int64         2080\n",
      "idxs                              ndarray       5: 5 elems, type `int64`, 40 bytes\n",
      "kaggle                            module        <module 'kaggle' from '/u<...>ages/kaggle/__init__.py'>\n",
      "keras                             module        <module 'keras' from '/us<...>kages/keras/__init__.py'>\n",
      "layers                            module        <module 'keras.api.layers<...>/api/layers/__init__.py'>\n",
      "n_classes                         int           10\n",
      "np                                module        <module 'numpy' from '/us<...>kages/numpy/__init__.py'>\n",
      "os                                module        <module 'os' from '/usr/lib/python3.10/os.py'>\n",
      "pd                                module        <module 'pandas' from '/u<...>ages/pandas/__init__.py'>\n",
      "plot_augmented_images_per_class   function      <function plot_augmented_<...>_class at 0x7774b53df1c0>\n",
      "plt                               module        <module 'matplotlib.pyplo<...>es/matplotlib/pyplot.py'>\n",
      "plt_idx                           int           50\n",
      "samples_per_class                 int           5\n",
      "test_df                           DataFrame            pixel0  pixel1  pi<...>28000 rows x 784 columns]\n",
      "tf                                module        <module 'tensorflow' from<...>/tensorflow/__init__.py'>\n",
      "time                              module        <module 'time' (built-in)>\n",
      "torch                             module        <module 'torch' from '/us<...>kages/torch/__init__.py'>\n",
      "train_df                          DataFrame            label  pixel0  pix<...>42000 rows x 785 columns]\n",
      "train_test_split                  function      <function train_test_split at 0x7774d54dd6c0>\n",
      "util                              module        <module 'MyUtils.Util.Mis<...>ay/MyUtils/Util/Misc.py'>\n",
      "wandb                             module        <module 'wandb' from '/us<...>kages/wandb/__init__.py'>\n",
      "x_test                            ndarray       28000x28x28x1: 21952000 elems, type `float32`, 87808000 bytes (83.740234375 Mb)\n",
      "x_train                           ndarray       37800x28x28x1: 29635200 elems, type `float32`, 118540800 bytes (113.04931640625 Mb)\n",
      "x_val                             ndarray       4200x28x28x1: 3292800 elems, type `int64`, 26342400 bytes (25.1220703125 Mb)\n",
      "y                                 int           9\n",
      "y_train                           ndarray       37800: 37800 elems, type `int64`, 302400 bytes (295.3125 kb)\n",
      "y_val                             ndarray       4200: 4200 elems, type `int64`, 33600 bytes\n",
      "zip_ref                           ZipFile       <zipfile.ZipFile [closed]>\n",
      "zipfile                           module        <module 'zipfile' from '/<...>b/python3.10/zipfile.py'>\n"
     ]
    },
    {
     "data": {
      "text/plain": [
       "783"
      ]
     },
     "execution_count": 12,
     "metadata": {},
     "output_type": "execute_result"
    }
   ],
   "source": [
    "# free memory\n",
    "%who\n",
    "%whos\n",
    "gc.collect()\n",
    "del data_augmentation\n",
    "del x_train\n",
    "del y_train\n",
    "del x_val\n",
    "del y_val\n",
    "del x_test\n",
    "del train_df\n",
    "del test_df\n",
    "\n",
    "gc.collect()"
   ]
  },
  {
   "cell_type": "markdown",
   "metadata": {},
   "source": [
    "## Prepare sweep"
   ]
  },
  {
   "cell_type": "code",
   "execution_count": 13,
   "metadata": {},
   "outputs": [
    {
     "name": "stderr",
     "output_type": "stream",
     "text": [
      "Failed to detect the name of this notebook, you can set it manually with the WANDB_NOTEBOOK_NAME environment variable to enable code saving.\n"
     ]
    },
    {
     "name": "stdout",
     "output_type": "stream",
     "text": [
      "cfg: \n",
      " {'project_name': 'Day3', 'username': 'frizzerdk', 'is_sweep': False, 'preprocessed_data_path': './data/preprocessed', 'x_train_path': '${preprocessed_data_path}/x_train.npy', 'y_train_path': '${preprocessed_data_path}/y_train.npy', 'x_test_path': '${preprocessed_data_path}/x_test.npy', 'x_val_path': '${preprocessed_data_path}/x_val.npy', 'y_val_path': '${preprocessed_data_path}/y_val.npy', 'checkpoint_path': './checkpoints', 'best_model_path': '${checkpoint_path}/best_model.keras', 'num_classes': 10, 'input_shape': [28, 28, 1], 'activation': 'relu', 'epochs': 100, 'param_scale': 2.0, 'dropout_rate': 0.1, 'learning_rate': 0.001, 'batch_size': 64, 'patience': 20, 'data_augmentation': {'layers': {'RandomTranslation': {'kwargs': {'height_factor': 0.0, 'width_factor': 0.0, 'fill_mode': 'constant'}}, 'RandomRotation': {'kwargs': {'factor': 0.0, 'fill_mode': 'constant'}}, 'RandomZoom': {'kwargs': {'height_factor': 0.0, 'width_factor': 0.0, 'fill_mode': 'constant'}}, 'RandomContrast': {'kwargs': {'factor': 0.0}}, 'RandomBrightness': {'kwargs': {'factor': 0.0, 'value_range': [0.0, 1.0]}}}}}\n",
      "{'name': 'data_augmentation_sweep', 'program': 'train.py', 'method': 'grid', 'metric': {'goal': 'maximize', 'name': 'epoch/val_acc'}, 'parameters': {'data_augmentation.layers.RandomTranslation.kwargs.height_factor': {'values': [0, 0.1, 0.5]}, 'data_augmentation.layers.RandomTranslation.kwargs.width_factor': {'values': [0, 0.1, 0.5]}, 'data_augmentation.layers.RandomRotation.kwargs.factor': {'values': [0, 0.1, 0.5]}, 'data_augmentation.layers.RandomZoom.kwargs.height_factor': {'values': [0, 0.1, 0.5]}, 'data_augmentation.layers.RandomZoom.kwargs.width_factor': {'values': [0, 0.1, 0.5]}, 'data_augmentation.layers.RandomContrast.kwargs.factor': {'values': [0, 0.1, 0.5]}, 'data_augmentation.layers.RandomBrightness.kwargs.factor': {'values': [0, 0.1, 0.5]}}}\n",
      "Create sweep with ID: zc6bdzeq\n",
      "Sweep URL: https://wandb.ai/frizzerdk/Day3/sweeps/zc6bdzeq\n"
     ]
    }
   ],
   "source": [
    "sweep_configuration_yaml = \"\"\"\n",
    "name: data_augmentation_sweep\n",
    "program: train.py\n",
    "method: grid\n",
    "metric:\n",
    "    goal: maximize\n",
    "    name: epoch/val_acc\n",
    "parameters:\n",
    "    data_augmentation.layers.RandomTranslation.kwargs.height_factor:\n",
    "        values: [0, 0.1, 0.5]\n",
    "    data_augmentation.layers.RandomTranslation.kwargs.width_factor:\n",
    "        values: [0, 0.1, 0.5]\n",
    "    data_augmentation.layers.RandomRotation.kwargs.factor:\n",
    "        values: [0, 0.1, 0.5]\n",
    "    data_augmentation.layers.RandomZoom.kwargs.height_factor:\n",
    "        values: [0, 0.1, 0.5]\n",
    "    data_augmentation.layers.RandomZoom.kwargs.width_factor:\n",
    "        values: [0, 0.1, 0.5]\n",
    "    data_augmentation.layers.RandomContrast.kwargs.factor:\n",
    "        values: [0, 0.1, 0.5]\n",
    "    data_augmentation.layers.RandomBrightness.kwargs.factor:\n",
    "        values: [0, 0.1, 0.5]\n",
    "\n",
    "\n",
    "  \"\"\"\n",
    "cfg = util.load_and_override_config(\".\", \"config\")\n",
    "# Create an OmegaConf object from the YAML string\n",
    "sweep_config = OmegaConf.create(sweep_configuration_yaml)\n",
    "\n",
    "# Convert the OmegaConf object to a regular Python dictionary\n",
    "wandb_sweep_config = OmegaConf.to_container(sweep_config, resolve=True)\n",
    "\n",
    "# Ensure the dictionary is correctly formatted for wandb.sweep\n",
    "wandb_sweep_config = dict(wandb_sweep_config)\n",
    "\n",
    "# Print the converted configuration to verify\n",
    "print(wandb_sweep_config)\n",
    "\n",
    "# Initialize a Weights & Biases sweep with the configuration\n",
    "sweep_id = util.get_or_create_sweep_id(cfg.project_name,wandb_sweep_config)\n",
    "#wait for sweep to be created\n",
    "time.sleep(5)\n",
    "\n"
   ]
  },
  {
   "cell_type": "markdown",
   "metadata": {},
   "source": [
    "## Run training Script"
   ]
  },
  {
   "cell_type": "code",
   "execution_count": 14,
   "metadata": {},
   "outputs": [
    {
     "name": "stdout",
     "output_type": "stream",
     "text": [
      "Session 'devenv_session' already exists. Killing the session.\n",
      "Creating a new session: devenv_session\n",
      "Running script train.py --is_sweep=True --sweep_id=zc6bdzeq in the first pane\n"
     ]
    }
   ],
   "source": [
    "# Define the tmux session name and the list of scripts to execute\n",
    "tmux_session_name = \"devenv_session\"\n",
    "is_sweep = True\n",
    "\n",
    "if is_sweep:\n",
    "    #script = [\"wandb agent -p Day3 -e frizzerdk --count 20 \" + sweep_id] \n",
    "    script = [\"wandb agent -p \"+cfg.project_name+\" -e \"+cfg.entity+\" --count \"+str(cfg.sweep_count)+\" \" + sweep_id] \n",
    "    n_repeats = 1\n",
    "    # Repeat the scripts n_repeats times\n",
    "    scripts = script * n_repeats\n",
    "else:\n",
    "    # Define the list of scripts to execute\n",
    "    scripts = [\"train.py\"] \n",
    "\n",
    "# Check if the session already exists\n",
    "existing_sessions = !tmux ls 2> /dev/null\n",
    "session_exists = any(tmux_session_name in session for session in existing_sessions)\n",
    "\n",
    "# If the session exists, kill it\n",
    "if session_exists:\n",
    "    print(f\"Session '{tmux_session_name}' already exists. Killing the session.\")\n",
    "    !tmux kill-session -t {tmux_session_name}\n",
    "\n",
    "# Start a new tmux session\n",
    "print(f\"Creating a new session: {tmux_session_name}\")\n",
    "!tmux new-session -d -s {tmux_session_name} -n main\n",
    "\n",
    "# Select the first window\n",
    "first_window_name = \"main\"\n",
    "\n",
    "# Initialize the first pane with the first script\n",
    "print(f\"Running script {scripts[0]} in the first pane\")\n",
    "!tmux send-keys -t {tmux_session_name}:{first_window_name}.0 \"python3 {scripts[0]}\" Enter\n",
    "\n",
    "# For subsequent scripts, create a new pane and execute the script\n",
    "for i, script in enumerate(scripts[1:], start=1):\n",
    "    # sleep for 5 seconds to allow the previous script to start\n",
    "    time.sleep(5)\n",
    "    print(f\"Creating pane {i} for script {script}\")\n",
    "    # Split the window to add a new pane\n",
    "    !tmux split-window -t {tmux_session_name}:{first_window_name}\n",
    "    # Send the command to execute the script in the new pane\n",
    "    !tmux send-keys -t {tmux_session_name}:{first_window_name}.{i} \"python3 {script}\" Enter\n",
    "\n",
    "# set main-pane-width\n",
    "!tmux setw -t {tmux_session_name} main-pane-width 50%\n",
    "\n",
    "# Apply a layout to distribute panes evenly\n",
    "!tmux select-layout -t {tmux_session_name}:{first_window_name} main-vertical\n",
    "#!:set -g mouse on\n",
    "\n",
    "\n",
    "# Optional: Attach to the tmux session (commented for Jupyter notebook)\n",
    "#tmux attach-session -t devenv_session\n"
   ]
  },
  {
   "cell_type": "markdown",
   "metadata": {},
   "source": [
    "## Evalutate trained models"
   ]
  },
  {
   "cell_type": "code",
   "execution_count": 15,
   "metadata": {},
   "outputs": [],
   "source": [
    "y_val = np.load(cfg.y_val_path)"
   ]
  }
 ],
 "metadata": {
  "kernelspec": {
   "display_name": "Python 3",
   "language": "python",
   "name": "python3"
  },
  "language_info": {
   "codemirror_mode": {
    "name": "ipython",
    "version": 3
   },
   "file_extension": ".py",
   "mimetype": "text/x-python",
   "name": "python",
   "nbconvert_exporter": "python",
   "pygments_lexer": "ipython3",
   "version": "3.10.12"
  }
 },
 "nbformat": 4,
 "nbformat_minor": 2
}
